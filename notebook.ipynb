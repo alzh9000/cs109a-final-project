{
 "cells": [
  {
   "cell_type": "markdown",
   "source": "CS109 Final Project",
   "metadata": {
    "tags": [],
    "cell_id": "00001-d23c7134-0497-407b-9ca1-6e4fed8b927f",
    "deepnote_cell_type": "markdown"
   }
  },
  {
   "cell_type": "code",
   "metadata": {
    "tags": [],
    "cell_id": "00000-3f22adf2-58c1-4a12-a8c0-79a3d1e08730",
    "deepnote_to_be_reexecuted": false,
    "source_hash": "6330924b",
    "execution_start": 1638141091205,
    "execution_millis": 202,
    "deepnote_output_heights": [
     2
    ],
    "deepnote_cell_type": "code"
   },
   "source": "# RUN THIS CELL \nimport requests\nfrom IPython.core.display import HTML\nstyles = requests.get(\n    \"https://raw.githubusercontent.com/Harvard-IACS/2021-CS109A/master/\"\n    \"themes/static/css/cs109.css\"\n).text\nHTML(styles)",
   "outputs": [
    {
     "output_type": "execute_result",
     "execution_count": 1,
     "data": {
      "text/plain": "<IPython.core.display.HTML object>",
      "text/html": "<style>\nblockquote { background: #AEDE94; }\nh1 {\n    padding-top: 25px;\n    padding-bottom: 25px;\n    text-align: left;\n    padding-left: 10px;\n    background-color: #63ACBE;\n    color: black;\n}\nh2 {\n    padding-top: 10px;\n    padding-bottom: 10px;\n    text-align: left;\n    padding-left: 5px;\n    background-color: #EEEEEE;\n    color: black;\n}\n\ndiv.exercise {\n\tbackground-color: #f8b4ab;\n\tborder-color: #E9967A;\n\tborder-left: 5px solid #601A4A;\n\tpadding: 0.5em;\n}\n\ndiv.exercise-r {\n\tbackground-color: #ffd0d0;\n\tborder-color: #E9967A;\n\tborder-left: 5px solid #601A4A;\n\tpadding: 0.5em;\n}\n\n\nspan.sub-q {\n\tfont-weight: bold;\n}\ndiv.theme {\n\tbackground-color: #63ACBE;\n\tborder-color: #E9967A;\n\tborder-left: 5px solid #601A4A;\n\tpadding: 0.5em;\n\tfont-size: 18pt;\n}\ndiv.gc {\n\tbackground-color: #AEDE94;\n\tborder-color: #E9967A;\n\tborder-left: 5px solid #601A4A;\n\tpadding: 0.5em;\n\tfont-size: 12pt;\n}\np.q1 {\n    padding-top: 5px;\n    padding-bottom: 5px;\n    text-align: left;\n    padding-left: 5px;\n    background-color: #EEEEEE;\n    color: black;\n}\nheader {\n   padding-top: 35px;\n    padding-bottom: 35px;\n    text-align: left;\n    padding-left: 10px;\n    background-color: #DDDDDD;\n    color: black;\n}\nspan.emph {\n\tcolor: #601A4A;\n\tfont-weight: bold;\n}\n\n</style>\n"
     },
     "metadata": {}
    }
   ],
   "execution_count": 1
  },
  {
   "cell_type": "code",
   "metadata": {
    "tags": [],
    "cell_id": "00002-36dd7251-a772-4b95-98a9-8cf8061094d9",
    "deepnote_to_be_reexecuted": false,
    "source_hash": "1ef462eb",
    "execution_start": 1638141091424,
    "execution_millis": 4250,
    "deepnote_cell_type": "code"
   },
   "source": "import random\nrandom_seed = 0\nrandom.seed(random_seed)\n\nimport os\nimport sys\n\nimport matplotlib.pyplot as plt\nimport numpy as np\nimport pandas as pd\nimport seaborn as sns\nfrom sklearn.linear_model import LogisticRegressionCV\nfrom sklearn.metrics import (\n    accuracy_score, confusion_matrix, roc_curve, roc_auc_score\n)                           \nfrom sklearn.model_selection import train_test_split\nfrom sklearn.preprocessing import MinMaxScaler\n\n%matplotlib inline\n\n# RUN THIS CELL\nimport itertools\nimport math\n\nimport numpy as np\nimport pandas as pd\nimport seaborn as sns\nimport matplotlib.pyplot as plt\n\nfrom sklearn.model_selection import train_test_split\nfrom sklearn.preprocessing import PolynomialFeatures\nfrom sklearn.preprocessing import StandardScaler\nfrom sklearn.model_selection import cross_validate\n\nfrom sklearn.linear_model import LogisticRegression\nfrom sklearn.neighbors import KNeighborsClassifier\nfrom sklearn.linear_model import LogisticRegressionCV\n\nfrom sklearn.metrics import accuracy_score\nfrom sklearn.metrics import roc_curve\nfrom sklearn.metrics import roc_auc_score\n\n# pandas tricks for better display\npd.options.display.max_columns = 50  \npd.options.display.max_rows = 500     \npd.options.display.max_colwidth = 100\npd.options.display.precision = 3\n\n%matplotlib inline\npd.set_option('display.width', 1000)",
   "outputs": [],
   "execution_count": 2
  },
  {
   "cell_type": "code",
   "metadata": {
    "tags": [],
    "cell_id": "00003-fe983094-78f5-431c-af4c-495cb671b506",
    "deepnote_to_be_reexecuted": false,
    "source_hash": "f85488ca",
    "execution_start": 1638141095705,
    "execution_millis": 210,
    "deepnote_cell_type": "code"
   },
   "source": "mortality = pd.read_csv(\"Project_B_NHANESI_full.csv\")\nnp.random.seed(random_seed)\n\n# college_train, college_test = train_test_split(\n#     college,\n#     test_size=0.2,\n#     random_state=random_seed,\n#     shuffle=True,\n#     stratify=college[\"school\"],\n# )\nprint(mortality.shape)\n# print(college_train.shape, college_test.shape)",
   "outputs": [
    {
     "name": "stdout",
     "text": "(14407, 42)\n",
     "output_type": "stream"
    }
   ],
   "execution_count": 3
  },
  {
   "cell_type": "code",
   "metadata": {
    "tags": [],
    "cell_id": "00004-46ae22a2-41bb-46c4-bd65-1c2a196240f0",
    "deepnote_to_be_reexecuted": false,
    "source_hash": "68596037",
    "execution_start": 1638141095938,
    "execution_millis": 496,
    "deepnote_output_heights": [
     611
    ],
    "deepnote_cell_type": "code"
   },
   "source": "display(mortality.head())",
   "outputs": [
    {
     "data": {
      "application/vnd.deepnote.dataframe.v2+json": {
       "row_count": 5,
       "column_count": 42,
       "columns": [
        {
         "name": "sequence_ID",
         "dtype": "int64",
         "stats": {
          "unique_count": 5,
          "nan_count": 0,
          "min": "20751",
          "max": "20756",
          "histogram": [
           {
            "bin_start": 20751,
            "bin_end": 20751.5,
            "count": 1
           },
           {
            "bin_start": 20751.5,
            "bin_end": 20752,
            "count": 0
           },
           {
            "bin_start": 20752,
            "bin_end": 20752.5,
            "count": 0
           },
           {
            "bin_start": 20752.5,
            "bin_end": 20753,
            "count": 0
           },
           {
            "bin_start": 20753,
            "bin_end": 20753.5,
            "count": 1
           },
           {
            "bin_start": 20753.5,
            "bin_end": 20754,
            "count": 0
           },
           {
            "bin_start": 20754,
            "bin_end": 20754.5,
            "count": 1
           },
           {
            "bin_start": 20754.5,
            "bin_end": 20755,
            "count": 0
           },
           {
            "bin_start": 20755,
            "bin_end": 20755.5,
            "count": 1
           },
           {
            "bin_start": 20755.5,
            "bin_end": 20756,
            "count": 1
           }
          ]
         }
        },
        {
         "name": "sex_isFemale",
         "dtype": "bool",
         "stats": {
          "unique_count": 2,
          "nan_count": 0,
          "categories": [
           {
            "name": "False",
            "count": 3
           },
           {
            "name": "True",
            "count": 2
           }
          ]
         }
        },
        {
         "name": "race",
         "dtype": "int64",
         "stats": {
          "unique_count": 2,
          "nan_count": 0,
          "min": "1",
          "max": "3",
          "histogram": [
           {
            "bin_start": 1,
            "bin_end": 1.2,
            "count": 4
           },
           {
            "bin_start": 1.2,
            "bin_end": 1.4,
            "count": 0
           },
           {
            "bin_start": 1.4,
            "bin_end": 1.6,
            "count": 0
           },
           {
            "bin_start": 1.6,
            "bin_end": 1.8,
            "count": 0
           },
           {
            "bin_start": 1.8,
            "bin_end": 2,
            "count": 0
           },
           {
            "bin_start": 2,
            "bin_end": 2.2,
            "count": 0
           },
           {
            "bin_start": 2.2,
            "bin_end": 2.4000000000000004,
            "count": 0
           },
           {
            "bin_start": 2.4000000000000004,
            "bin_end": 2.6,
            "count": 0
           },
           {
            "bin_start": 2.6,
            "bin_end": 2.8,
            "count": 0
           },
           {
            "bin_start": 2.8,
            "bin_end": 3,
            "count": 1
           }
          ]
         }
        },
        {
         "name": "poverty_index",
         "dtype": "float64",
         "stats": {
          "unique_count": 0,
          "nan_count": 5,
          "min": null,
          "max": null,
          "histogram": [
           {
            "bin_start": 0,
            "bin_end": 0.1,
            "count": 0
           },
           {
            "bin_start": 0.1,
            "bin_end": 0.2,
            "count": 0
           },
           {
            "bin_start": 0.2,
            "bin_end": 0.30000000000000004,
            "count": 0
           },
           {
            "bin_start": 0.30000000000000004,
            "bin_end": 0.4,
            "count": 0
           },
           {
            "bin_start": 0.4,
            "bin_end": 0.5,
            "count": 0
           },
           {
            "bin_start": 0.5,
            "bin_end": 0.6000000000000001,
            "count": 0
           },
           {
            "bin_start": 0.6000000000000001,
            "bin_end": 0.7000000000000001,
            "count": 0
           },
           {
            "bin_start": 0.7000000000000001,
            "bin_end": 0.8,
            "count": 0
           },
           {
            "bin_start": 0.8,
            "bin_end": 0.9,
            "count": 0
           },
           {
            "bin_start": 0.9,
            "bin_end": 1,
            "count": 0
           }
          ]
         }
        },
        {
         "name": "age",
         "dtype": "int64",
         "stats": {
          "unique_count": 5,
          "nan_count": 0,
          "min": "29",
          "max": "51",
          "histogram": [
           {
            "bin_start": 29,
            "bin_end": 31.2,
            "count": 2
           },
           {
            "bin_start": 31.2,
            "bin_end": 33.4,
            "count": 0
           },
           {
            "bin_start": 33.4,
            "bin_end": 35.6,
            "count": 0
           },
           {
            "bin_start": 35.6,
            "bin_end": 37.8,
            "count": 0
           },
           {
            "bin_start": 37.8,
            "bin_end": 40,
            "count": 0
           },
           {
            "bin_start": 40,
            "bin_end": 42.2,
            "count": 1
           },
           {
            "bin_start": 42.2,
            "bin_end": 44.400000000000006,
            "count": 0
           },
           {
            "bin_start": 44.400000000000006,
            "bin_end": 46.6,
            "count": 0
           },
           {
            "bin_start": 46.6,
            "bin_end": 48.8,
            "count": 1
           },
           {
            "bin_start": 48.8,
            "bin_end": 51,
            "count": 1
           }
          ]
         }
        },
        {
         "name": "serum_albumin",
         "dtype": "float64",
         "stats": {
          "unique_count": 0,
          "nan_count": 5,
          "min": null,
          "max": null,
          "histogram": [
           {
            "bin_start": 0,
            "bin_end": 0.1,
            "count": 0
           },
           {
            "bin_start": 0.1,
            "bin_end": 0.2,
            "count": 0
           },
           {
            "bin_start": 0.2,
            "bin_end": 0.30000000000000004,
            "count": 0
           },
           {
            "bin_start": 0.30000000000000004,
            "bin_end": 0.4,
            "count": 0
           },
           {
            "bin_start": 0.4,
            "bin_end": 0.5,
            "count": 0
           },
           {
            "bin_start": 0.5,
            "bin_end": 0.6000000000000001,
            "count": 0
           },
           {
            "bin_start": 0.6000000000000001,
            "bin_end": 0.7000000000000001,
            "count": 0
           },
           {
            "bin_start": 0.7000000000000001,
            "bin_end": 0.8,
            "count": 0
           },
           {
            "bin_start": 0.8,
            "bin_end": 0.9,
            "count": 0
           },
           {
            "bin_start": 0.9,
            "bin_end": 1,
            "count": 0
           }
          ]
         }
        },
        {
         "name": "alkaline_phosphatase",
         "dtype": "float64",
         "stats": {
          "unique_count": 5,
          "nan_count": 0,
          "min": "37.0",
          "max": "85.0",
          "histogram": [
           {
            "bin_start": 37,
            "bin_end": 41.8,
            "count": 1
           },
           {
            "bin_start": 41.8,
            "bin_end": 46.6,
            "count": 0
           },
           {
            "bin_start": 46.6,
            "bin_end": 51.4,
            "count": 0
           },
           {
            "bin_start": 51.4,
            "bin_end": 56.2,
            "count": 0
           },
           {
            "bin_start": 56.2,
            "bin_end": 61,
            "count": 1
           },
           {
            "bin_start": 61,
            "bin_end": 65.8,
            "count": 1
           },
           {
            "bin_start": 65.8,
            "bin_end": 70.6,
            "count": 1
           },
           {
            "bin_start": 70.6,
            "bin_end": 75.4,
            "count": 0
           },
           {
            "bin_start": 75.4,
            "bin_end": 80.19999999999999,
            "count": 0
           },
           {
            "bin_start": 80.19999999999999,
            "bin_end": 85,
            "count": 1
           }
          ]
         }
        },
        {
         "name": "SGOT",
         "dtype": "float64",
         "stats": {
          "unique_count": 3,
          "nan_count": 2,
          "min": "1.69",
          "max": "2.27",
          "histogram": [
           {
            "bin_start": 1.69,
            "bin_end": 1.748,
            "count": 1
           },
           {
            "bin_start": 1.748,
            "bin_end": 1.806,
            "count": 0
           },
           {
            "bin_start": 1.806,
            "bin_end": 1.8639999999999999,
            "count": 1
           },
           {
            "bin_start": 1.8639999999999999,
            "bin_end": 1.922,
            "count": 0
           },
           {
            "bin_start": 1.922,
            "bin_end": 1.98,
            "count": 0
           },
           {
            "bin_start": 1.98,
            "bin_end": 2.0380000000000003,
            "count": 0
           },
           {
            "bin_start": 2.0380000000000003,
            "bin_end": 2.096,
            "count": 0
           },
           {
            "bin_start": 2.096,
            "bin_end": 2.154,
            "count": 0
           },
           {
            "bin_start": 2.154,
            "bin_end": 2.212,
            "count": 0
           },
           {
            "bin_start": 2.212,
            "bin_end": 2.27,
            "count": 1
           }
          ]
         }
        },
        {
         "name": "BUN",
         "dtype": "float64",
         "stats": {
          "unique_count": 4,
          "nan_count": 0,
          "min": "10.0",
          "max": "19.0",
          "histogram": [
           {
            "bin_start": 10,
            "bin_end": 10.9,
            "count": 1
           },
           {
            "bin_start": 10.9,
            "bin_end": 11.8,
            "count": 0
           },
           {
            "bin_start": 11.8,
            "bin_end": 12.7,
            "count": 1
           },
           {
            "bin_start": 12.7,
            "bin_end": 13.6,
            "count": 0
           },
           {
            "bin_start": 13.6,
            "bin_end": 14.5,
            "count": 0
           },
           {
            "bin_start": 14.5,
            "bin_end": 15.4,
            "count": 0
           },
           {
            "bin_start": 15.4,
            "bin_end": 16.3,
            "count": 2
           },
           {
            "bin_start": 16.3,
            "bin_end": 17.2,
            "count": 0
           },
           {
            "bin_start": 17.2,
            "bin_end": 18.1,
            "count": 0
           },
           {
            "bin_start": 18.1,
            "bin_end": 19,
            "count": 1
           }
          ]
         }
        },
        {
         "name": "calcium",
         "dtype": "float64",
         "stats": {
          "unique_count": 5,
          "nan_count": 0,
          "min": "9.3",
          "max": "10.2",
          "histogram": [
           {
            "bin_start": 9.3,
            "bin_end": 9.39,
            "count": 1
           },
           {
            "bin_start": 9.39,
            "bin_end": 9.48,
            "count": 0
           },
           {
            "bin_start": 9.48,
            "bin_end": 9.57,
            "count": 0
           },
           {
            "bin_start": 9.57,
            "bin_end": 9.66,
            "count": 1
           },
           {
            "bin_start": 9.66,
            "bin_end": 9.75,
            "count": 1
           },
           {
            "bin_start": 9.75,
            "bin_end": 9.84,
            "count": 0
           },
           {
            "bin_start": 9.84,
            "bin_end": 9.93,
            "count": 0
           },
           {
            "bin_start": 9.93,
            "bin_end": 10.02,
            "count": 0
           },
           {
            "bin_start": 10.02,
            "bin_end": 10.11,
            "count": 1
           },
           {
            "bin_start": 10.11,
            "bin_end": 10.2,
            "count": 1
           }
          ]
         }
        },
        {
         "name": "creatinine",
         "dtype": "float64",
         "stats": {
          "unique_count": 4,
          "nan_count": 0,
          "min": "0.6",
          "max": "1.1",
          "histogram": [
           {
            "bin_start": 0.6,
            "bin_end": 0.65,
            "count": 1
           },
           {
            "bin_start": 0.65,
            "bin_end": 0.7,
            "count": 0
           },
           {
            "bin_start": 0.7,
            "bin_end": 0.75,
            "count": 0
           },
           {
            "bin_start": 0.75,
            "bin_end": 0.8,
            "count": 0
           },
           {
            "bin_start": 0.8,
            "bin_end": 0.8500000000000001,
            "count": 0
           },
           {
            "bin_start": 0.8500000000000001,
            "bin_end": 0.9,
            "count": 0
           },
           {
            "bin_start": 0.9,
            "bin_end": 0.9500000000000001,
            "count": 1
           },
           {
            "bin_start": 0.9500000000000001,
            "bin_end": 1,
            "count": 0
           },
           {
            "bin_start": 1,
            "bin_end": 1.05,
            "count": 1
           },
           {
            "bin_start": 1.05,
            "bin_end": 1.1,
            "count": 2
           }
          ]
         }
        },
        {
         "name": "potassium",
         "dtype": "float64",
         "stats": {
          "unique_count": 4,
          "nan_count": 0,
          "min": "3.9",
          "max": "4.4",
          "histogram": [
           {
            "bin_start": 3.9,
            "bin_end": 3.95,
            "count": 1
           },
           {
            "bin_start": 3.95,
            "bin_end": 4,
            "count": 0
           },
           {
            "bin_start": 4,
            "bin_end": 4.05,
            "count": 0
           },
           {
            "bin_start": 4.05,
            "bin_end": 4.1,
            "count": 0
           },
           {
            "bin_start": 4.1,
            "bin_end": 4.15,
            "count": 1
           },
           {
            "bin_start": 4.15,
            "bin_end": 4.2,
            "count": 0
           },
           {
            "bin_start": 4.2,
            "bin_end": 4.25,
            "count": 2
           },
           {
            "bin_start": 4.25,
            "bin_end": 4.300000000000001,
            "count": 0
           },
           {
            "bin_start": 4.300000000000001,
            "bin_end": 4.3500000000000005,
            "count": 0
           },
           {
            "bin_start": 4.3500000000000005,
            "bin_end": 4.4,
            "count": 1
           }
          ]
         }
        },
        {
         "name": "sodium",
         "dtype": "float64",
         "stats": {
          "unique_count": 3,
          "nan_count": 0,
          "min": "139.0",
          "max": "142.0",
          "histogram": [
           {
            "bin_start": 139,
            "bin_end": 139.3,
            "count": 1
           },
           {
            "bin_start": 139.3,
            "bin_end": 139.6,
            "count": 0
           },
           {
            "bin_start": 139.6,
            "bin_end": 139.9,
            "count": 0
           },
           {
            "bin_start": 139.9,
            "bin_end": 140.2,
            "count": 2
           },
           {
            "bin_start": 140.2,
            "bin_end": 140.5,
            "count": 0
           },
           {
            "bin_start": 140.5,
            "bin_end": 140.8,
            "count": 0
           },
           {
            "bin_start": 140.8,
            "bin_end": 141.1,
            "count": 0
           },
           {
            "bin_start": 141.1,
            "bin_end": 141.4,
            "count": 0
           },
           {
            "bin_start": 141.4,
            "bin_end": 141.7,
            "count": 0
           },
           {
            "bin_start": 141.7,
            "bin_end": 142,
            "count": 2
           }
          ]
         }
        },
        {
         "name": "total_bilirubin",
         "dtype": "float64",
         "stats": {
          "unique_count": 5,
          "nan_count": 0,
          "min": "0.3",
          "max": "0.9",
          "histogram": [
           {
            "bin_start": 0.3,
            "bin_end": 0.36,
            "count": 1
           },
           {
            "bin_start": 0.36,
            "bin_end": 0.42000000000000004,
            "count": 0
           },
           {
            "bin_start": 0.42000000000000004,
            "bin_end": 0.48000000000000004,
            "count": 0
           },
           {
            "bin_start": 0.48000000000000004,
            "bin_end": 0.54,
            "count": 1
           },
           {
            "bin_start": 0.54,
            "bin_end": 0.6000000000000001,
            "count": 0
           },
           {
            "bin_start": 0.6000000000000001,
            "bin_end": 0.6600000000000001,
            "count": 0
           },
           {
            "bin_start": 0.6600000000000001,
            "bin_end": 0.7200000000000001,
            "count": 1
           },
           {
            "bin_start": 0.7200000000000001,
            "bin_end": 0.78,
            "count": 0
           },
           {
            "bin_start": 0.78,
            "bin_end": 0.8400000000000001,
            "count": 1
           },
           {
            "bin_start": 0.8400000000000001,
            "bin_end": 0.9,
            "count": 1
           }
          ]
         }
        },
        {
         "name": "serum_protein",
         "dtype": "float64",
         "stats": {
          "unique_count": 0,
          "nan_count": 5,
          "min": null,
          "max": null,
          "histogram": [
           {
            "bin_start": 0,
            "bin_end": 0.1,
            "count": 0
           },
           {
            "bin_start": 0.1,
            "bin_end": 0.2,
            "count": 0
           },
           {
            "bin_start": 0.2,
            "bin_end": 0.30000000000000004,
            "count": 0
           },
           {
            "bin_start": 0.30000000000000004,
            "bin_end": 0.4,
            "count": 0
           },
           {
            "bin_start": 0.4,
            "bin_end": 0.5,
            "count": 0
           },
           {
            "bin_start": 0.5,
            "bin_end": 0.6000000000000001,
            "count": 0
           },
           {
            "bin_start": 0.6000000000000001,
            "bin_end": 0.7000000000000001,
            "count": 0
           },
           {
            "bin_start": 0.7000000000000001,
            "bin_end": 0.8,
            "count": 0
           },
           {
            "bin_start": 0.8,
            "bin_end": 0.9,
            "count": 0
           },
           {
            "bin_start": 0.9,
            "bin_end": 1,
            "count": 0
           }
          ]
         }
        },
        {
         "name": "red_blood_cells",
         "dtype": "float64",
         "stats": {
          "unique_count": 5,
          "nan_count": 0,
          "min": "4.23",
          "max": "5.48",
          "histogram": [
           {
            "bin_start": 4.23,
            "bin_end": 4.355,
            "count": 2
           },
           {
            "bin_start": 4.355,
            "bin_end": 4.48,
            "count": 0
           },
           {
            "bin_start": 4.48,
            "bin_end": 4.605,
            "count": 0
           },
           {
            "bin_start": 4.605,
            "bin_end": 4.73,
            "count": 2
           },
           {
            "bin_start": 4.73,
            "bin_end": 4.855,
            "count": 0
           },
           {
            "bin_start": 4.855,
            "bin_end": 4.98,
            "count": 0
           },
           {
            "bin_start": 4.98,
            "bin_end": 5.105,
            "count": 0
           },
           {
            "bin_start": 5.105,
            "bin_end": 5.23,
            "count": 0
           },
           {
            "bin_start": 5.23,
            "bin_end": 5.355,
            "count": 0
           },
           {
            "bin_start": 5.355,
            "bin_end": 5.48,
            "count": 1
           }
          ]
         }
        },
        {
         "name": "white_blood_cells",
         "dtype": "float64",
         "stats": {
          "unique_count": 5,
          "nan_count": 0,
          "min": "5.1",
          "max": "10.1",
          "histogram": [
           {
            "bin_start": 5.1,
            "bin_end": 5.6,
            "count": 2
           },
           {
            "bin_start": 5.6,
            "bin_end": 6.1,
            "count": 0
           },
           {
            "bin_start": 6.1,
            "bin_end": 6.6,
            "count": 1
           },
           {
            "bin_start": 6.6,
            "bin_end": 7.1,
            "count": 0
           },
           {
            "bin_start": 7.1,
            "bin_end": 7.6,
            "count": 0
           },
           {
            "bin_start": 7.6,
            "bin_end": 8.1,
            "count": 1
           },
           {
            "bin_start": 8.1,
            "bin_end": 8.6,
            "count": 0
           },
           {
            "bin_start": 8.6,
            "bin_end": 9.1,
            "count": 0
           },
           {
            "bin_start": 9.1,
            "bin_end": 9.6,
            "count": 0
           },
           {
            "bin_start": 9.6,
            "bin_end": 10.1,
            "count": 1
           }
          ]
         }
        },
        {
         "name": "hemoglobin",
         "dtype": "float64",
         "stats": {
          "unique_count": 5,
          "nan_count": 0,
          "min": "12.0",
          "max": "16.0",
          "histogram": [
           {
            "bin_start": 12,
            "bin_end": 12.4,
            "count": 2
           },
           {
            "bin_start": 12.4,
            "bin_end": 12.8,
            "count": 1
           },
           {
            "bin_start": 12.8,
            "bin_end": 13.2,
            "count": 0
           },
           {
            "bin_start": 13.2,
            "bin_end": 13.6,
            "count": 0
           },
           {
            "bin_start": 13.6,
            "bin_end": 14,
            "count": 0
           },
           {
            "bin_start": 14,
            "bin_end": 14.4,
            "count": 1
           },
           {
            "bin_start": 14.4,
            "bin_end": 14.8,
            "count": 0
           },
           {
            "bin_start": 14.8,
            "bin_end": 15.2,
            "count": 0
           },
           {
            "bin_start": 15.2,
            "bin_end": 15.6,
            "count": 0
           },
           {
            "bin_start": 15.6,
            "bin_end": 16,
            "count": 1
           }
          ]
         }
        },
        {
         "name": "hematocrit",
         "dtype": "float64",
         "stats": {
          "unique_count": 4,
          "nan_count": 0,
          "min": "38.0",
          "max": "49.0",
          "histogram": [
           {
            "bin_start": 38,
            "bin_end": 39.1,
            "count": 1
           },
           {
            "bin_start": 39.1,
            "bin_end": 40.2,
            "count": 2
           },
           {
            "bin_start": 40.2,
            "bin_end": 41.3,
            "count": 0
           },
           {
            "bin_start": 41.3,
            "bin_end": 42.4,
            "count": 1
           },
           {
            "bin_start": 42.4,
            "bin_end": 43.5,
            "count": 0
           },
           {
            "bin_start": 43.5,
            "bin_end": 44.6,
            "count": 0
           },
           {
            "bin_start": 44.6,
            "bin_end": 45.7,
            "count": 0
           },
           {
            "bin_start": 45.7,
            "bin_end": 46.8,
            "count": 0
           },
           {
            "bin_start": 46.8,
            "bin_end": 47.9,
            "count": 0
           },
           {
            "bin_start": 47.9,
            "bin_end": 49,
            "count": 1
           }
          ]
         }
        },
        {
         "name": "platelets_estimate",
         "dtype": "object",
         "stats": {
          "unique_count": 1,
          "nan_count": 0,
          "categories": [
           {
            "name": "Normal",
            "count": 5
           }
          ]
         }
        },
        {
         "name": "segmented_neutrophils",
         "dtype": "float64",
         "stats": {
          "unique_count": 4,
          "nan_count": 0,
          "min": "54.0",
          "max": "70.0",
          "histogram": [
           {
            "bin_start": 54,
            "bin_end": 55.6,
            "count": 2
           },
           {
            "bin_start": 55.6,
            "bin_end": 57.2,
            "count": 1
           },
           {
            "bin_start": 57.2,
            "bin_end": 58.8,
            "count": 0
           },
           {
            "bin_start": 58.8,
            "bin_end": 60.4,
            "count": 0
           },
           {
            "bin_start": 60.4,
            "bin_end": 62,
            "count": 0
           },
           {
            "bin_start": 62,
            "bin_end": 63.6,
            "count": 0
           },
           {
            "bin_start": 63.6,
            "bin_end": 65.2,
            "count": 1
           },
           {
            "bin_start": 65.2,
            "bin_end": 66.8,
            "count": 0
           },
           {
            "bin_start": 66.8,
            "bin_end": 68.4,
            "count": 0
           },
           {
            "bin_start": 68.4,
            "bin_end": 70,
            "count": 1
           }
          ]
         }
        },
        {
         "name": "lymphocytes",
         "dtype": "float64",
         "stats": {
          "unique_count": 5,
          "nan_count": 0,
          "min": "26.0",
          "max": "37.0",
          "histogram": [
           {
            "bin_start": 26,
            "bin_end": 27.1,
            "count": 1
           },
           {
            "bin_start": 27.1,
            "bin_end": 28.2,
            "count": 0
           },
           {
            "bin_start": 28.2,
            "bin_end": 29.3,
            "count": 0
           },
           {
            "bin_start": 29.3,
            "bin_end": 30.4,
            "count": 0
           },
           {
            "bin_start": 30.4,
            "bin_end": 31.5,
            "count": 0
           },
           {
            "bin_start": 31.5,
            "bin_end": 32.6,
            "count": 0
           },
           {
            "bin_start": 32.6,
            "bin_end": 33.7,
            "count": 1
           },
           {
            "bin_start": 33.7,
            "bin_end": 34.8,
            "count": 1
           },
           {
            "bin_start": 34.8,
            "bin_end": 35.9,
            "count": 1
           },
           {
            "bin_start": 35.9,
            "bin_end": 37,
            "count": 1
           }
          ]
         }
        },
        {
         "name": "monocytes",
         "dtype": "float64",
         "stats": {
          "unique_count": 3,
          "nan_count": 0,
          "min": "1.0",
          "max": "4.0",
          "histogram": [
           {
            "bin_start": 1,
            "bin_end": 1.3,
            "count": 2
           },
           {
            "bin_start": 1.3,
            "bin_end": 1.6,
            "count": 0
           },
           {
            "bin_start": 1.6,
            "bin_end": 1.9,
            "count": 0
           },
           {
            "bin_start": 1.9,
            "bin_end": 2.2,
            "count": 2
           },
           {
            "bin_start": 2.2,
            "bin_end": 2.5,
            "count": 0
           },
           {
            "bin_start": 2.5,
            "bin_end": 2.8,
            "count": 0
           },
           {
            "bin_start": 2.8,
            "bin_end": 3.1,
            "count": 0
           },
           {
            "bin_start": 3.1,
            "bin_end": 3.4,
            "count": 0
           },
           {
            "bin_start": 3.4,
            "bin_end": 3.6999999999999997,
            "count": 0
           },
           {
            "bin_start": 3.6999999999999997,
            "bin_end": 4,
            "count": 1
           }
          ]
         }
        },
        {
         "name": "eosinophils",
         "dtype": "float64",
         "stats": {
          "unique_count": 4,
          "nan_count": 0,
          "min": "0.0",
          "max": "8.0",
          "histogram": [
           {
            "bin_start": 0,
            "bin_end": 0.8,
            "count": 1
           },
           {
            "bin_start": 0.8,
            "bin_end": 1.6,
            "count": 0
           },
           {
            "bin_start": 1.6,
            "bin_end": 2.4000000000000004,
            "count": 0
           },
           {
            "bin_start": 2.4000000000000004,
            "bin_end": 3.2,
            "count": 1
           },
           {
            "bin_start": 3.2,
            "bin_end": 4,
            "count": 0
           },
           {
            "bin_start": 4,
            "bin_end": 4.800000000000001,
            "count": 0
           },
           {
            "bin_start": 4.800000000000001,
            "bin_end": 5.6000000000000005,
            "count": 1
           },
           {
            "bin_start": 5.6000000000000005,
            "bin_end": 6.4,
            "count": 0
           },
           {
            "bin_start": 6.4,
            "bin_end": 7.2,
            "count": 0
           },
           {
            "bin_start": 7.2,
            "bin_end": 8,
            "count": 2
           }
          ]
         }
        },
        {
         "name": "basophils",
         "dtype": "float64",
         "stats": {
          "unique_count": 2,
          "nan_count": 0,
          "min": "0.0",
          "max": "1.0",
          "histogram": [
           {
            "bin_start": 0,
            "bin_end": 0.1,
            "count": 3
           },
           {
            "bin_start": 0.1,
            "bin_end": 0.2,
            "count": 0
           },
           {
            "bin_start": 0.2,
            "bin_end": 0.30000000000000004,
            "count": 0
           },
           {
            "bin_start": 0.30000000000000004,
            "bin_end": 0.4,
            "count": 0
           },
           {
            "bin_start": 0.4,
            "bin_end": 0.5,
            "count": 0
           },
           {
            "bin_start": 0.5,
            "bin_end": 0.6000000000000001,
            "count": 0
           },
           {
            "bin_start": 0.6000000000000001,
            "bin_end": 0.7000000000000001,
            "count": 0
           },
           {
            "bin_start": 0.7000000000000001,
            "bin_end": 0.8,
            "count": 0
           },
           {
            "bin_start": 0.8,
            "bin_end": 0.9,
            "count": 0
           },
           {
            "bin_start": 0.9,
            "bin_end": 1,
            "count": 2
           }
          ]
         }
        },
        {
         "name": "band_neutrophils",
         "dtype": "float64",
         "stats": {
          "unique_count": 1,
          "nan_count": 0,
          "min": "0.0",
          "max": "0.0",
          "histogram": [
           {
            "bin_start": -0.5,
            "bin_end": -0.4,
            "count": 0
           },
           {
            "bin_start": -0.4,
            "bin_end": -0.3,
            "count": 0
           },
           {
            "bin_start": -0.3,
            "bin_end": -0.19999999999999996,
            "count": 0
           },
           {
            "bin_start": -0.19999999999999996,
            "bin_end": -0.09999999999999998,
            "count": 0
           },
           {
            "bin_start": -0.09999999999999998,
            "bin_end": 0,
            "count": 0
           },
           {
            "bin_start": 0,
            "bin_end": 0.10000000000000009,
            "count": 5
           },
           {
            "bin_start": 0.10000000000000009,
            "bin_end": 0.20000000000000007,
            "count": 0
           },
           {
            "bin_start": 0.20000000000000007,
            "bin_end": 0.30000000000000004,
            "count": 0
           },
           {
            "bin_start": 0.30000000000000004,
            "bin_end": 0.4,
            "count": 0
           },
           {
            "bin_start": 0.4,
            "bin_end": 0.5,
            "count": 0
           }
          ]
         }
        },
        {
         "name": "cholesterol",
         "dtype": "float64",
         "stats": {
          "unique_count": 5,
          "nan_count": 0,
          "min": "177.0",
          "max": "256.0",
          "histogram": [
           {
            "bin_start": 177,
            "bin_end": 184.9,
            "count": 1
           },
           {
            "bin_start": 184.9,
            "bin_end": 192.8,
            "count": 0
           },
           {
            "bin_start": 192.8,
            "bin_end": 200.7,
            "count": 0
           },
           {
            "bin_start": 200.7,
            "bin_end": 208.6,
            "count": 1
           },
           {
            "bin_start": 208.6,
            "bin_end": 216.5,
            "count": 1
           },
           {
            "bin_start": 216.5,
            "bin_end": 224.4,
            "count": 0
           },
           {
            "bin_start": 224.4,
            "bin_end": 232.3,
            "count": 0
           },
           {
            "bin_start": 232.3,
            "bin_end": 240.2,
            "count": 0
           },
           {
            "bin_start": 240.2,
            "bin_end": 248.10000000000002,
            "count": 0
           },
           {
            "bin_start": 248.10000000000002,
            "bin_end": 256,
            "count": 2
           }
          ]
         }
        },
        {
         "name": "serum_iron",
         "dtype": "float64",
         "stats": {
          "unique_count": 0,
          "nan_count": 5,
          "min": null,
          "max": null,
          "histogram": [
           {
            "bin_start": 0,
            "bin_end": 0.1,
            "count": 0
           },
           {
            "bin_start": 0.1,
            "bin_end": 0.2,
            "count": 0
           },
           {
            "bin_start": 0.2,
            "bin_end": 0.30000000000000004,
            "count": 0
           },
           {
            "bin_start": 0.30000000000000004,
            "bin_end": 0.4,
            "count": 0
           },
           {
            "bin_start": 0.4,
            "bin_end": 0.5,
            "count": 0
           },
           {
            "bin_start": 0.5,
            "bin_end": 0.6000000000000001,
            "count": 0
           },
           {
            "bin_start": 0.6000000000000001,
            "bin_end": 0.7000000000000001,
            "count": 0
           },
           {
            "bin_start": 0.7000000000000001,
            "bin_end": 0.8,
            "count": 0
           },
           {
            "bin_start": 0.8,
            "bin_end": 0.9,
            "count": 0
           },
           {
            "bin_start": 0.9,
            "bin_end": 1,
            "count": 0
           }
          ]
         }
        },
        {
         "name": "serum_magnesium",
         "dtype": "float64",
         "stats": {
          "unique_count": 5,
          "nan_count": 0,
          "min": "153.0",
          "max": "182.0",
          "histogram": [
           {
            "bin_start": 153,
            "bin_end": 155.9,
            "count": 1
           },
           {
            "bin_start": 155.9,
            "bin_end": 158.8,
            "count": 1
           },
           {
            "bin_start": 158.8,
            "bin_end": 161.7,
            "count": 2
           },
           {
            "bin_start": 161.7,
            "bin_end": 164.6,
            "count": 0
           },
           {
            "bin_start": 164.6,
            "bin_end": 167.5,
            "count": 0
           },
           {
            "bin_start": 167.5,
            "bin_end": 170.4,
            "count": 0
           },
           {
            "bin_start": 170.4,
            "bin_end": 173.3,
            "count": 0
           },
           {
            "bin_start": 173.3,
            "bin_end": 176.2,
            "count": 0
           },
           {
            "bin_start": 176.2,
            "bin_end": 179.1,
            "count": 0
           },
           {
            "bin_start": 179.1,
            "bin_end": 182,
            "count": 1
           }
          ]
         }
        },
        {
         "name": "total_iron_binding_capacity",
         "dtype": "float64",
         "stats": {
          "unique_count": 0,
          "nan_count": 5,
          "min": null,
          "max": null,
          "histogram": [
           {
            "bin_start": 0,
            "bin_end": 0.1,
            "count": 0
           },
           {
            "bin_start": 0.1,
            "bin_end": 0.2,
            "count": 0
           },
           {
            "bin_start": 0.2,
            "bin_end": 0.30000000000000004,
            "count": 0
           },
           {
            "bin_start": 0.30000000000000004,
            "bin_end": 0.4,
            "count": 0
           },
           {
            "bin_start": 0.4,
            "bin_end": 0.5,
            "count": 0
           },
           {
            "bin_start": 0.5,
            "bin_end": 0.6000000000000001,
            "count": 0
           },
           {
            "bin_start": 0.6000000000000001,
            "bin_end": 0.7000000000000001,
            "count": 0
           },
           {
            "bin_start": 0.7000000000000001,
            "bin_end": 0.8,
            "count": 0
           },
           {
            "bin_start": 0.8,
            "bin_end": 0.9,
            "count": 0
           },
           {
            "bin_start": 0.9,
            "bin_end": 1,
            "count": 0
           }
          ]
         }
        },
        {
         "name": "tranferrin_saturation",
         "dtype": "float64",
         "stats": {
          "unique_count": 0,
          "nan_count": 5,
          "min": null,
          "max": null,
          "histogram": [
           {
            "bin_start": 0,
            "bin_end": 0.1,
            "count": 0
           },
           {
            "bin_start": 0.1,
            "bin_end": 0.2,
            "count": 0
           },
           {
            "bin_start": 0.2,
            "bin_end": 0.30000000000000004,
            "count": 0
           },
           {
            "bin_start": 0.30000000000000004,
            "bin_end": 0.4,
            "count": 0
           },
           {
            "bin_start": 0.4,
            "bin_end": 0.5,
            "count": 0
           },
           {
            "bin_start": 0.5,
            "bin_end": 0.6000000000000001,
            "count": 0
           },
           {
            "bin_start": 0.6000000000000001,
            "bin_end": 0.7000000000000001,
            "count": 0
           },
           {
            "bin_start": 0.7000000000000001,
            "bin_end": 0.8,
            "count": 0
           },
           {
            "bin_start": 0.8,
            "bin_end": 0.9,
            "count": 0
           },
           {
            "bin_start": 0.9,
            "bin_end": 1,
            "count": 0
           }
          ]
         }
        },
        {
         "name": "urine_albumin",
         "dtype": "object",
         "stats": {
          "unique_count": 1,
          "nan_count": 0,
          "categories": [
           {
            "name": "Negative",
            "count": 5
           }
          ]
         }
        },
        {
         "name": "urine_glucose",
         "dtype": "object",
         "stats": {
          "unique_count": 1,
          "nan_count": 0,
          "categories": [
           {
            "name": "Negative",
            "count": 5
           }
          ]
         }
        },
        {
         "name": "urine_pH",
         "dtype": "float64",
         "stats": {
          "unique_count": 2,
          "nan_count": 0,
          "min": "5.0",
          "max": "6.0",
          "histogram": [
           {
            "bin_start": 5,
            "bin_end": 5.1,
            "count": 4
           },
           {
            "bin_start": 5.1,
            "bin_end": 5.2,
            "count": 0
           },
           {
            "bin_start": 5.2,
            "bin_end": 5.3,
            "count": 0
           },
           {
            "bin_start": 5.3,
            "bin_end": 5.4,
            "count": 0
           },
           {
            "bin_start": 5.4,
            "bin_end": 5.5,
            "count": 0
           },
           {
            "bin_start": 5.5,
            "bin_end": 5.6,
            "count": 0
           },
           {
            "bin_start": 5.6,
            "bin_end": 5.7,
            "count": 0
           },
           {
            "bin_start": 5.7,
            "bin_end": 5.8,
            "count": 0
           },
           {
            "bin_start": 5.8,
            "bin_end": 5.9,
            "count": 0
           },
           {
            "bin_start": 5.9,
            "bin_end": 6,
            "count": 1
           }
          ]
         }
        },
        {
         "name": "urine_hematest",
         "dtype": "object",
         "stats": {
          "unique_count": 1,
          "nan_count": 0,
          "categories": [
           {
            "name": "Negative",
            "count": 5
           }
          ]
         }
        },
        {
         "name": "sedimentation_rate",
         "dtype": "float64",
         "stats": {
          "unique_count": 0,
          "nan_count": 5,
          "min": null,
          "max": null,
          "histogram": [
           {
            "bin_start": 0,
            "bin_end": 0.1,
            "count": 0
           },
           {
            "bin_start": 0.1,
            "bin_end": 0.2,
            "count": 0
           },
           {
            "bin_start": 0.2,
            "bin_end": 0.30000000000000004,
            "count": 0
           },
           {
            "bin_start": 0.30000000000000004,
            "bin_end": 0.4,
            "count": 0
           },
           {
            "bin_start": 0.4,
            "bin_end": 0.5,
            "count": 0
           },
           {
            "bin_start": 0.5,
            "bin_end": 0.6000000000000001,
            "count": 0
           },
           {
            "bin_start": 0.6000000000000001,
            "bin_end": 0.7000000000000001,
            "count": 0
           },
           {
            "bin_start": 0.7000000000000001,
            "bin_end": 0.8,
            "count": 0
           },
           {
            "bin_start": 0.8,
            "bin_end": 0.9,
            "count": 0
           },
           {
            "bin_start": 0.9,
            "bin_end": 1,
            "count": 0
           }
          ]
         }
        },
        {
         "name": "uric_acid",
         "dtype": "float64",
         "stats": {
          "unique_count": 5,
          "nan_count": 0,
          "min": "4.3",
          "max": "8.4",
          "histogram": [
           {
            "bin_start": 4.3,
            "bin_end": 4.71,
            "count": 1
           },
           {
            "bin_start": 4.71,
            "bin_end": 5.12,
            "count": 1
           },
           {
            "bin_start": 5.12,
            "bin_end": 5.529999999999999,
            "count": 0
           },
           {
            "bin_start": 5.529999999999999,
            "bin_end": 5.9399999999999995,
            "count": 0
           },
           {
            "bin_start": 5.9399999999999995,
            "bin_end": 6.35,
            "count": 1
           },
           {
            "bin_start": 6.35,
            "bin_end": 6.76,
            "count": 0
           },
           {
            "bin_start": 6.76,
            "bin_end": 7.17,
            "count": 0
           },
           {
            "bin_start": 7.17,
            "bin_end": 7.58,
            "count": 0
           },
           {
            "bin_start": 7.58,
            "bin_end": 7.99,
            "count": 1
           },
           {
            "bin_start": 7.99,
            "bin_end": 8.4,
            "count": 1
           }
          ]
         }
        },
        {
         "name": "systolic_blood_pressure",
         "dtype": "float64",
         "stats": {
          "unique_count": 4,
          "nan_count": 0,
          "min": "98.0",
          "max": "136.0",
          "histogram": [
           {
            "bin_start": 98,
            "bin_end": 101.8,
            "count": 1
           },
           {
            "bin_start": 101.8,
            "bin_end": 105.6,
            "count": 0
           },
           {
            "bin_start": 105.6,
            "bin_end": 109.4,
            "count": 0
           },
           {
            "bin_start": 109.4,
            "bin_end": 113.2,
            "count": 2
           },
           {
            "bin_start": 113.2,
            "bin_end": 117,
            "count": 0
           },
           {
            "bin_start": 117,
            "bin_end": 120.8,
            "count": 0
           },
           {
            "bin_start": 120.8,
            "bin_end": 124.6,
            "count": 0
           },
           {
            "bin_start": 124.6,
            "bin_end": 128.4,
            "count": 1
           },
           {
            "bin_start": 128.4,
            "bin_end": 132.2,
            "count": 0
           },
           {
            "bin_start": 132.2,
            "bin_end": 136,
            "count": 1
           }
          ]
         }
        },
        {
         "name": "pulse_pressure",
         "dtype": "float64",
         "stats": {
          "unique_count": 4,
          "nan_count": 0,
          "min": "24.0",
          "max": "54.0",
          "histogram": [
           {
            "bin_start": 24,
            "bin_end": 27,
            "count": 1
           },
           {
            "bin_start": 27,
            "bin_end": 30,
            "count": 0
           },
           {
            "bin_start": 30,
            "bin_end": 33,
            "count": 0
           },
           {
            "bin_start": 33,
            "bin_end": 36,
            "count": 0
           },
           {
            "bin_start": 36,
            "bin_end": 39,
            "count": 2
           },
           {
            "bin_start": 39,
            "bin_end": 42,
            "count": 1
           },
           {
            "bin_start": 42,
            "bin_end": 45,
            "count": 0
           },
           {
            "bin_start": 45,
            "bin_end": 48,
            "count": 0
           },
           {
            "bin_start": 48,
            "bin_end": 51,
            "count": 0
           },
           {
            "bin_start": 51,
            "bin_end": 54,
            "count": 1
           }
          ]
         }
        },
        {
         "name": "weight",
         "dtype": "float64",
         "stats": {
          "unique_count": 5,
          "nan_count": 0,
          "min": "51.37",
          "max": "88.22",
          "histogram": [
           {
            "bin_start": 51.37,
            "bin_end": 55.055,
            "count": 1
           },
           {
            "bin_start": 55.055,
            "bin_end": 58.739999999999995,
            "count": 0
           },
           {
            "bin_start": 58.739999999999995,
            "bin_end": 62.425,
            "count": 1
           },
           {
            "bin_start": 62.425,
            "bin_end": 66.11,
            "count": 0
           },
           {
            "bin_start": 66.11,
            "bin_end": 69.795,
            "count": 0
           },
           {
            "bin_start": 69.795,
            "bin_end": 73.47999999999999,
            "count": 0
           },
           {
            "bin_start": 73.47999999999999,
            "bin_end": 77.16499999999999,
            "count": 0
           },
           {
            "bin_start": 77.16499999999999,
            "bin_end": 80.85,
            "count": 0
           },
           {
            "bin_start": 80.85,
            "bin_end": 84.535,
            "count": 1
           },
           {
            "bin_start": 84.535,
            "bin_end": 88.22,
            "count": 2
           }
          ]
         }
        },
        {
         "name": "height",
         "dtype": "float64",
         "stats": {
          "unique_count": 5,
          "nan_count": 0,
          "min": "159.2",
          "max": "188.2",
          "histogram": [
           {
            "bin_start": 159.2,
            "bin_end": 162.1,
            "count": 1
           },
           {
            "bin_start": 162.1,
            "bin_end": 165,
            "count": 1
           },
           {
            "bin_start": 165,
            "bin_end": 167.89999999999998,
            "count": 0
           },
           {
            "bin_start": 167.89999999999998,
            "bin_end": 170.79999999999998,
            "count": 0
           },
           {
            "bin_start": 170.79999999999998,
            "bin_end": 173.7,
            "count": 0
           },
           {
            "bin_start": 173.7,
            "bin_end": 176.6,
            "count": 1
           },
           {
            "bin_start": 176.6,
            "bin_end": 179.5,
            "count": 0
           },
           {
            "bin_start": 179.5,
            "bin_end": 182.39999999999998,
            "count": 1
           },
           {
            "bin_start": 182.39999999999998,
            "bin_end": 185.29999999999998,
            "count": 0
           },
           {
            "bin_start": 185.29999999999998,
            "bin_end": 188.2,
            "count": 1
           }
          ]
         }
        },
        {
         "name": "y",
         "dtype": "float64",
         "stats": {
          "unique_count": 5,
          "nan_count": 0,
          "min": "-17.630136986301366",
          "max": "-16.951665543828128",
          "histogram": [
           {
            "bin_start": -17.630136986301366,
            "bin_end": -17.562289842054042,
            "count": 1
           },
           {
            "bin_start": -17.562289842054042,
            "bin_end": -17.49444269780672,
            "count": 0
           },
           {
            "bin_start": -17.49444269780672,
            "bin_end": -17.426595553559395,
            "count": 0
           },
           {
            "bin_start": -17.426595553559395,
            "bin_end": -17.35874840931207,
            "count": 0
           },
           {
            "bin_start": -17.35874840931207,
            "bin_end": -17.290901265064747,
            "count": 0
           },
           {
            "bin_start": -17.290901265064747,
            "bin_end": -17.223054120817423,
            "count": 1
           },
           {
            "bin_start": -17.223054120817423,
            "bin_end": -17.1552069765701,
            "count": 1
           },
           {
            "bin_start": -17.1552069765701,
            "bin_end": -17.087359832322775,
            "count": 1
           },
           {
            "bin_start": -17.087359832322775,
            "bin_end": -17.01951268807545,
            "count": 0
           },
           {
            "bin_start": -17.01951268807545,
            "bin_end": -16.951665543828128,
            "count": 1
           }
          ]
         }
        },
        {
         "name": "_deepnote_index_column",
         "dtype": "int64"
        }
       ],
       "rows_top": [
        {
         "sequence_ID": 20751,
         "sex_isFemale": false,
         "race": 1,
         "poverty_index": "nan",
         "age": 51,
         "serum_albumin": "nan",
         "alkaline_phosphatase": 85,
         "SGOT": "nan",
         "BUN": 16,
         "calcium": 10.1,
         "creatinine": 1,
         "potassium": 4.1,
         "sodium": 140,
         "total_bilirubin": 0.5,
         "serum_protein": "nan",
         "red_blood_cells": 5.48,
         "white_blood_cells": 10.1,
         "hemoglobin": 16,
         "hematocrit": 49,
         "platelets_estimate": "Normal",
         "segmented_neutrophils": 70,
         "lymphocytes": 26,
         "monocytes": 1,
         "eosinophils": 3,
         "basophils": 0,
         "band_neutrophils": 0,
         "cholesterol": 256,
         "serum_iron": "nan",
         "serum_magnesium": 182,
         "total_iron_binding_capacity": "nan",
         "tranferrin_saturation": "nan",
         "urine_albumin": "Negative",
         "urine_glucose": "Negative",
         "urine_pH": 5,
         "urine_hematest": "Negative",
         "sedimentation_rate": "nan",
         "uric_acid": 6.2,
         "systolic_blood_pressure": 110,
         "pulse_pressure": 40,
         "weight": 84.25,
         "height": 182.1,
         "y": -16.951665543828128,
         "_deepnote_index_column": 0
        },
        {
         "sequence_ID": 20753,
         "sex_isFemale": false,
         "race": 1,
         "poverty_index": "nan",
         "age": 41,
         "serum_albumin": "nan",
         "alkaline_phosphatase": 68,
         "SGOT": 2.27,
         "BUN": 16,
         "calcium": 10.2,
         "creatinine": 0.9,
         "potassium": 4.4,
         "sodium": 142,
         "total_bilirubin": 0.9,
         "serum_protein": "nan",
         "red_blood_cells": 4.62,
         "white_blood_cells": 6.3,
         "hemoglobin": 14.1,
         "hematocrit": 42,
         "platelets_estimate": "Normal",
         "segmented_neutrophils": 54,
         "lymphocytes": 35,
         "monocytes": 2,
         "eosinophils": 8,
         "basophils": 1,
         "band_neutrophils": 0,
         "cholesterol": 254,
         "serum_iron": "nan",
         "serum_magnesium": 159,
         "total_iron_binding_capacity": "nan",
         "tranferrin_saturation": "nan",
         "urine_albumin": "Negative",
         "urine_glucose": "Negative",
         "urine_pH": 5,
         "urine_hematest": "Negative",
         "sedimentation_rate": "nan",
         "uric_acid": 7.7,
         "systolic_blood_pressure": 136,
         "pulse_pressure": 54,
         "weight": 87.09,
         "height": 188.2,
         "y": -17.20029942360955,
         "_deepnote_index_column": 1
        },
        {
         "sequence_ID": 20754,
         "sex_isFemale": true,
         "race": 3,
         "poverty_index": "nan",
         "age": 31,
         "serum_albumin": "nan",
         "alkaline_phosphatase": 61,
         "SGOT": 1.86,
         "BUN": 10,
         "calcium": 9.6,
         "creatinine": 0.6,
         "potassium": 3.9,
         "sodium": 139,
         "total_bilirubin": 0.3,
         "serum_protein": "nan",
         "red_blood_cells": 4.26,
         "white_blood_cells": 7.8,
         "hemoglobin": 12,
         "hematocrit": 38,
         "platelets_estimate": "Normal",
         "segmented_neutrophils": 56,
         "lymphocytes": 37,
         "monocytes": 2,
         "eosinophils": 5,
         "basophils": 0,
         "band_neutrophils": 0,
         "cholesterol": 177,
         "serum_iron": "nan",
         "serum_magnesium": 160,
         "total_iron_binding_capacity": "nan",
         "tranferrin_saturation": "nan",
         "urine_albumin": "Negative",
         "urine_glucose": "Negative",
         "urine_pH": 6,
         "urine_hematest": "Negative",
         "sedimentation_rate": "nan",
         "uric_acid": 4.9,
         "systolic_blood_pressure": 110,
         "pulse_pressure": 24,
         "weight": 60.21,
         "height": 159.2,
         "y": -17.630136986301366,
         "_deepnote_index_column": 2
        },
        {
         "sequence_ID": 20755,
         "sex_isFemale": false,
         "race": 1,
         "poverty_index": "nan",
         "age": 48,
         "serum_albumin": "nan",
         "alkaline_phosphatase": 58,
         "SGOT": "nan",
         "BUN": 12,
         "calcium": 9.7,
         "creatinine": 1.1,
         "potassium": 4.2,
         "sodium": 142,
         "total_bilirubin": 0.8,
         "serum_protein": "nan",
         "red_blood_cells": 4.71,
         "white_blood_cells": 5.1,
         "hemoglobin": 12.7,
         "hematocrit": 40,
         "platelets_estimate": "Normal",
         "segmented_neutrophils": 54,
         "lymphocytes": 33,
         "monocytes": 4,
         "eosinophils": 8,
         "basophils": 1,
         "band_neutrophils": 0,
         "cholesterol": 209,
         "serum_iron": "nan",
         "serum_magnesium": 153,
         "total_iron_binding_capacity": "nan",
         "tranferrin_saturation": "nan",
         "urine_albumin": "Negative",
         "urine_glucose": "Negative",
         "urine_pH": 5,
         "urine_hematest": "Negative",
         "sedimentation_rate": "nan",
         "uric_acid": 8.4,
         "systolic_blood_pressure": 126,
         "pulse_pressure": 36,
         "weight": 88.22,
         "height": 175.6,
         "y": -17.271367617336622,
         "_deepnote_index_column": 3
        },
        {
         "sequence_ID": 20756,
         "sex_isFemale": true,
         "race": 1,
         "poverty_index": "nan",
         "age": 29,
         "serum_albumin": "nan",
         "alkaline_phosphatase": 37,
         "SGOT": 1.69,
         "BUN": 19,
         "calcium": 9.3,
         "creatinine": 1.1,
         "potassium": 4.2,
         "sodium": 140,
         "total_bilirubin": 0.7,
         "serum_protein": "nan",
         "red_blood_cells": 4.23,
         "white_blood_cells": 5.2,
         "hemoglobin": 12.3,
         "hematocrit": 40,
         "platelets_estimate": "Normal",
         "segmented_neutrophils": 65,
         "lymphocytes": 34,
         "monocytes": 1,
         "eosinophils": 0,
         "basophils": 0,
         "band_neutrophils": 0,
         "cholesterol": 206,
         "serum_iron": "nan",
         "serum_magnesium": 156,
         "total_iron_binding_capacity": "nan",
         "tranferrin_saturation": "nan",
         "urine_albumin": "Negative",
         "urine_glucose": "Negative",
         "urine_pH": 5,
         "urine_hematest": "Negative",
         "sedimentation_rate": "nan",
         "uric_acid": 4.3,
         "systolic_blood_pressure": 98,
         "pulse_pressure": 36,
         "weight": 51.37,
         "height": 163.5,
         "y": -17.131963470319633,
         "_deepnote_index_column": 4
        }
       ],
       "rows_bottom": null
      },
      "text/plain": "   sequence_ID  sex_isFemale  race  poverty_index  age  serum_albumin  alkaline_phosphatase  SGOT   BUN  calcium  creatinine  potassium  sodium  total_bilirubin  serum_protein  red_blood_cells  white_blood_cells  hemoglobin  hematocrit platelets_estimate  segmented_neutrophils  lymphocytes  monocytes  eosinophils  basophils  band_neutrophils  cholesterol  serum_iron  serum_magnesium  total_iron_binding_capacity  tranferrin_saturation urine_albumin urine_glucose  urine_pH urine_hematest  sedimentation_rate  uric_acid  systolic_blood_pressure  pulse_pressure  weight  height       y\n0        20751         False     1            NaN   51            NaN                  85.0   NaN  16.0     10.1         1.0        4.1   140.0              0.5            NaN             5.48               10.1        16.0        49.0             Normal                   70.0         26.0        1.0          3.0        0.0               0.0        256.0         NaN            182.0                          NaN                    NaN      Negative      Negative       5.0       Negative                 NaN        6.2                    110.0            40.0   84.25   182.1 -16.952\n1        20753         False     1            NaN   41            NaN                  68.0  2.27  16.0     10.2         0.9        4.4   142.0              0.9            NaN             4.62                6.3        14.1        42.0             Normal                   54.0         35.0        2.0          8.0        1.0               0.0        254.0         NaN            159.0                          NaN                    NaN      Negative      Negative       5.0       Negative                 NaN        7.7                    136.0            54.0   87.09   188.2 -17.200\n2        20754          True     3            NaN   31            NaN                  61.0  1.86  10.0      9.6         0.6        3.9   139.0              0.3            NaN             4.26                7.8        12.0        38.0             Normal                   56.0         37.0        2.0          5.0        0.0               0.0        177.0         NaN            160.0                          NaN                    NaN      Negative      Negative       6.0       Negative                 NaN        4.9                    110.0            24.0   60.21   159.2 -17.630\n3        20755         False     1            NaN   48            NaN                  58.0   NaN  12.0      9.7         1.1        4.2   142.0              0.8            NaN             4.71                5.1        12.7        40.0             Normal                   54.0         33.0        4.0          8.0        1.0               0.0        209.0         NaN            153.0                          NaN                    NaN      Negative      Negative       5.0       Negative                 NaN        8.4                    126.0            36.0   88.22   175.6 -17.271\n4        20756          True     1            NaN   29            NaN                  37.0  1.69  19.0      9.3         1.1        4.2   140.0              0.7            NaN             4.23                5.2        12.3        40.0             Normal                   65.0         34.0        1.0          0.0        0.0               0.0        206.0         NaN            156.0                          NaN                    NaN      Negative      Negative       5.0       Negative                 NaN        4.3                     98.0            36.0   51.37   163.5 -17.132",
      "text/html": "<div>\n<style scoped>\n    .dataframe tbody tr th:only-of-type {\n        vertical-align: middle;\n    }\n\n    .dataframe tbody tr th {\n        vertical-align: top;\n    }\n\n    .dataframe thead th {\n        text-align: right;\n    }\n</style>\n<table border=\"1\" class=\"dataframe\">\n  <thead>\n    <tr style=\"text-align: right;\">\n      <th></th>\n      <th>sequence_ID</th>\n      <th>sex_isFemale</th>\n      <th>race</th>\n      <th>poverty_index</th>\n      <th>age</th>\n      <th>serum_albumin</th>\n      <th>alkaline_phosphatase</th>\n      <th>SGOT</th>\n      <th>BUN</th>\n      <th>calcium</th>\n      <th>creatinine</th>\n      <th>potassium</th>\n      <th>sodium</th>\n      <th>total_bilirubin</th>\n      <th>serum_protein</th>\n      <th>red_blood_cells</th>\n      <th>white_blood_cells</th>\n      <th>hemoglobin</th>\n      <th>hematocrit</th>\n      <th>platelets_estimate</th>\n      <th>segmented_neutrophils</th>\n      <th>lymphocytes</th>\n      <th>monocytes</th>\n      <th>eosinophils</th>\n      <th>basophils</th>\n      <th>band_neutrophils</th>\n      <th>cholesterol</th>\n      <th>serum_iron</th>\n      <th>serum_magnesium</th>\n      <th>total_iron_binding_capacity</th>\n      <th>tranferrin_saturation</th>\n      <th>urine_albumin</th>\n      <th>urine_glucose</th>\n      <th>urine_pH</th>\n      <th>urine_hematest</th>\n      <th>sedimentation_rate</th>\n      <th>uric_acid</th>\n      <th>systolic_blood_pressure</th>\n      <th>pulse_pressure</th>\n      <th>weight</th>\n      <th>height</th>\n      <th>y</th>\n    </tr>\n  </thead>\n  <tbody>\n    <tr>\n      <th>0</th>\n      <td>20751</td>\n      <td>False</td>\n      <td>1</td>\n      <td>NaN</td>\n      <td>51</td>\n      <td>NaN</td>\n      <td>85.0</td>\n      <td>NaN</td>\n      <td>16.0</td>\n      <td>10.1</td>\n      <td>1.0</td>\n      <td>4.1</td>\n      <td>140.0</td>\n      <td>0.5</td>\n      <td>NaN</td>\n      <td>5.48</td>\n      <td>10.1</td>\n      <td>16.0</td>\n      <td>49.0</td>\n      <td>Normal</td>\n      <td>70.0</td>\n      <td>26.0</td>\n      <td>1.0</td>\n      <td>3.0</td>\n      <td>0.0</td>\n      <td>0.0</td>\n      <td>256.0</td>\n      <td>NaN</td>\n      <td>182.0</td>\n      <td>NaN</td>\n      <td>NaN</td>\n      <td>Negative</td>\n      <td>Negative</td>\n      <td>5.0</td>\n      <td>Negative</td>\n      <td>NaN</td>\n      <td>6.2</td>\n      <td>110.0</td>\n      <td>40.0</td>\n      <td>84.25</td>\n      <td>182.1</td>\n      <td>-16.952</td>\n    </tr>\n    <tr>\n      <th>1</th>\n      <td>20753</td>\n      <td>False</td>\n      <td>1</td>\n      <td>NaN</td>\n      <td>41</td>\n      <td>NaN</td>\n      <td>68.0</td>\n      <td>2.27</td>\n      <td>16.0</td>\n      <td>10.2</td>\n      <td>0.9</td>\n      <td>4.4</td>\n      <td>142.0</td>\n      <td>0.9</td>\n      <td>NaN</td>\n      <td>4.62</td>\n      <td>6.3</td>\n      <td>14.1</td>\n      <td>42.0</td>\n      <td>Normal</td>\n      <td>54.0</td>\n      <td>35.0</td>\n      <td>2.0</td>\n      <td>8.0</td>\n      <td>1.0</td>\n      <td>0.0</td>\n      <td>254.0</td>\n      <td>NaN</td>\n      <td>159.0</td>\n      <td>NaN</td>\n      <td>NaN</td>\n      <td>Negative</td>\n      <td>Negative</td>\n      <td>5.0</td>\n      <td>Negative</td>\n      <td>NaN</td>\n      <td>7.7</td>\n      <td>136.0</td>\n      <td>54.0</td>\n      <td>87.09</td>\n      <td>188.2</td>\n      <td>-17.200</td>\n    </tr>\n    <tr>\n      <th>2</th>\n      <td>20754</td>\n      <td>True</td>\n      <td>3</td>\n      <td>NaN</td>\n      <td>31</td>\n      <td>NaN</td>\n      <td>61.0</td>\n      <td>1.86</td>\n      <td>10.0</td>\n      <td>9.6</td>\n      <td>0.6</td>\n      <td>3.9</td>\n      <td>139.0</td>\n      <td>0.3</td>\n      <td>NaN</td>\n      <td>4.26</td>\n      <td>7.8</td>\n      <td>12.0</td>\n      <td>38.0</td>\n      <td>Normal</td>\n      <td>56.0</td>\n      <td>37.0</td>\n      <td>2.0</td>\n      <td>5.0</td>\n      <td>0.0</td>\n      <td>0.0</td>\n      <td>177.0</td>\n      <td>NaN</td>\n      <td>160.0</td>\n      <td>NaN</td>\n      <td>NaN</td>\n      <td>Negative</td>\n      <td>Negative</td>\n      <td>6.0</td>\n      <td>Negative</td>\n      <td>NaN</td>\n      <td>4.9</td>\n      <td>110.0</td>\n      <td>24.0</td>\n      <td>60.21</td>\n      <td>159.2</td>\n      <td>-17.630</td>\n    </tr>\n    <tr>\n      <th>3</th>\n      <td>20755</td>\n      <td>False</td>\n      <td>1</td>\n      <td>NaN</td>\n      <td>48</td>\n      <td>NaN</td>\n      <td>58.0</td>\n      <td>NaN</td>\n      <td>12.0</td>\n      <td>9.7</td>\n      <td>1.1</td>\n      <td>4.2</td>\n      <td>142.0</td>\n      <td>0.8</td>\n      <td>NaN</td>\n      <td>4.71</td>\n      <td>5.1</td>\n      <td>12.7</td>\n      <td>40.0</td>\n      <td>Normal</td>\n      <td>54.0</td>\n      <td>33.0</td>\n      <td>4.0</td>\n      <td>8.0</td>\n      <td>1.0</td>\n      <td>0.0</td>\n      <td>209.0</td>\n      <td>NaN</td>\n      <td>153.0</td>\n      <td>NaN</td>\n      <td>NaN</td>\n      <td>Negative</td>\n      <td>Negative</td>\n      <td>5.0</td>\n      <td>Negative</td>\n      <td>NaN</td>\n      <td>8.4</td>\n      <td>126.0</td>\n      <td>36.0</td>\n      <td>88.22</td>\n      <td>175.6</td>\n      <td>-17.271</td>\n    </tr>\n    <tr>\n      <th>4</th>\n      <td>20756</td>\n      <td>True</td>\n      <td>1</td>\n      <td>NaN</td>\n      <td>29</td>\n      <td>NaN</td>\n      <td>37.0</td>\n      <td>1.69</td>\n      <td>19.0</td>\n      <td>9.3</td>\n      <td>1.1</td>\n      <td>4.2</td>\n      <td>140.0</td>\n      <td>0.7</td>\n      <td>NaN</td>\n      <td>4.23</td>\n      <td>5.2</td>\n      <td>12.3</td>\n      <td>40.0</td>\n      <td>Normal</td>\n      <td>65.0</td>\n      <td>34.0</td>\n      <td>1.0</td>\n      <td>0.0</td>\n      <td>0.0</td>\n      <td>0.0</td>\n      <td>206.0</td>\n      <td>NaN</td>\n      <td>156.0</td>\n      <td>NaN</td>\n      <td>NaN</td>\n      <td>Negative</td>\n      <td>Negative</td>\n      <td>5.0</td>\n      <td>Negative</td>\n      <td>NaN</td>\n      <td>4.3</td>\n      <td>98.0</td>\n      <td>36.0</td>\n      <td>51.37</td>\n      <td>163.5</td>\n      <td>-17.132</td>\n    </tr>\n  </tbody>\n</table>\n</div>"
     },
     "metadata": {},
     "output_type": "display_data"
    }
   ],
   "execution_count": 4
  },
  {
   "cell_type": "code",
   "metadata": {
    "tags": [],
    "cell_id": "00005-f5f4f0dd-3e06-4397-8d89-5f740ed0d47d",
    "deepnote_to_be_reexecuted": false,
    "source_hash": "f2481fd0",
    "execution_start": 1638141096400,
    "execution_millis": 675,
    "deepnote_cell_type": "code"
   },
   "source": "display(mortality.describe())",
   "outputs": [
    {
     "data": {
      "application/vnd.deepnote.dataframe.v2+json": {
       "row_count": 8,
       "column_count": 37,
       "columns": [
        {
         "name": "sequence_ID",
         "dtype": "float64",
         "stats": {
          "unique_count": 8,
          "nan_count": 0,
          "min": "1.0",
          "max": "25061.0",
          "histogram": [
           {
            "bin_start": 1,
            "bin_end": 2507,
            "count": 1
           },
           {
            "bin_start": 2507,
            "bin_end": 5013,
            "count": 0
           },
           {
            "bin_start": 5013,
            "bin_end": 7519,
            "count": 2
           },
           {
            "bin_start": 7519,
            "bin_end": 10025,
            "count": 0
           },
           {
            "bin_start": 10025,
            "bin_end": 12531,
            "count": 0
           },
           {
            "bin_start": 12531,
            "bin_end": 15037,
            "count": 3
           },
           {
            "bin_start": 15037,
            "bin_end": 17543,
            "count": 0
           },
           {
            "bin_start": 17543,
            "bin_end": 20049,
            "count": 1
           },
           {
            "bin_start": 20049,
            "bin_end": 22555,
            "count": 0
           },
           {
            "bin_start": 22555,
            "bin_end": 25061,
            "count": 1
           }
          ]
         }
        },
        {
         "name": "race",
         "dtype": "float64",
         "stats": {
          "unique_count": 5,
          "nan_count": 0,
          "min": "0.40753861039040745",
          "max": "14407.0",
          "histogram": [
           {
            "bin_start": 0.40753861039040745,
            "bin_end": 1441.0667847493514,
            "count": 7
           },
           {
            "bin_start": 1441.0667847493514,
            "bin_end": 2881.7260308883124,
            "count": 0
           },
           {
            "bin_start": 2881.7260308883124,
            "bin_end": 4322.385277027273,
            "count": 0
           },
           {
            "bin_start": 4322.385277027273,
            "bin_end": 5763.044523166234,
            "count": 0
           },
           {
            "bin_start": 5763.044523166234,
            "bin_end": 7203.703769305195,
            "count": 0
           },
           {
            "bin_start": 7203.703769305195,
            "bin_end": 8644.363015444156,
            "count": 0
           },
           {
            "bin_start": 8644.363015444156,
            "bin_end": 10085.022261583117,
            "count": 0
           },
           {
            "bin_start": 10085.022261583117,
            "bin_end": 11525.681507722078,
            "count": 0
           },
           {
            "bin_start": 11525.681507722078,
            "bin_end": 12966.340753861039,
            "count": 0
           },
           {
            "bin_start": 12966.340753861039,
            "bin_end": 14407,
            "count": 1
           }
          ]
         }
        },
        {
         "name": "poverty_index",
         "dtype": "float64",
         "stats": {
          "unique_count": 8,
          "nan_count": 0,
          "min": "2.0",
          "max": "11348.0",
          "histogram": [
           {
            "bin_start": 2,
            "bin_end": 1136.6,
            "count": 7
           },
           {
            "bin_start": 1136.6,
            "bin_end": 2271.2,
            "count": 0
           },
           {
            "bin_start": 2271.2,
            "bin_end": 3405.7999999999997,
            "count": 0
           },
           {
            "bin_start": 3405.7999999999997,
            "bin_end": 4540.4,
            "count": 0
           },
           {
            "bin_start": 4540.4,
            "bin_end": 5675,
            "count": 0
           },
           {
            "bin_start": 5675,
            "bin_end": 6809.599999999999,
            "count": 0
           },
           {
            "bin_start": 6809.599999999999,
            "bin_end": 7944.199999999999,
            "count": 0
           },
           {
            "bin_start": 7944.199999999999,
            "bin_end": 9078.8,
            "count": 0
           },
           {
            "bin_start": 9078.8,
            "bin_end": 10213.4,
            "count": 0
           },
           {
            "bin_start": 10213.4,
            "bin_end": 11348,
            "count": 1
           }
          ]
         }
        },
        {
         "name": "age",
         "dtype": "float64",
         "stats": {
          "unique_count": 8,
          "nan_count": 0,
          "min": "15.589962848612801",
          "max": "14407.0",
          "histogram": [
           {
            "bin_start": 15.589962848612801,
            "bin_end": 1454.7309665637515,
            "count": 7
           },
           {
            "bin_start": 1454.7309665637515,
            "bin_end": 2893.87197027889,
            "count": 0
           },
           {
            "bin_start": 2893.87197027889,
            "bin_end": 4333.012973994029,
            "count": 0
           },
           {
            "bin_start": 4333.012973994029,
            "bin_end": 5772.1539777091675,
            "count": 0
           },
           {
            "bin_start": 5772.1539777091675,
            "bin_end": 7211.294981424306,
            "count": 0
           },
           {
            "bin_start": 7211.294981424306,
            "bin_end": 8650.435985139446,
            "count": 0
           },
           {
            "bin_start": 8650.435985139446,
            "bin_end": 10089.576988854584,
            "count": 0
           },
           {
            "bin_start": 10089.576988854584,
            "bin_end": 11528.717992569722,
            "count": 0
           },
           {
            "bin_start": 11528.717992569722,
            "bin_end": 12967.85899628486,
            "count": 0
           },
           {
            "bin_start": 12967.85899628486,
            "bin_end": 14407,
            "count": 1
           }
          ]
         }
        },
        {
         "name": "serum_albumin",
         "dtype": "float64",
         "stats": {
          "unique_count": 8,
          "nan_count": 0,
          "min": "0.32938203196763133",
          "max": "10801.0",
          "histogram": [
           {
            "bin_start": 0.32938203196763133,
            "bin_end": 1080.396443828771,
            "count": 7
           },
           {
            "bin_start": 1080.396443828771,
            "bin_end": 2160.4635056255743,
            "count": 0
           },
           {
            "bin_start": 2160.4635056255743,
            "bin_end": 3240.5305674223773,
            "count": 0
           },
           {
            "bin_start": 3240.5305674223773,
            "bin_end": 4320.597629219181,
            "count": 0
           },
           {
            "bin_start": 4320.597629219181,
            "bin_end": 5400.664691015984,
            "count": 0
           },
           {
            "bin_start": 5400.664691015984,
            "bin_end": 6480.731752812787,
            "count": 0
           },
           {
            "bin_start": 6480.731752812787,
            "bin_end": 7560.79881460959,
            "count": 0
           },
           {
            "bin_start": 7560.79881460959,
            "bin_end": 8640.865876406393,
            "count": 0
           },
           {
            "bin_start": 8640.865876406393,
            "bin_end": 9720.932938203196,
            "count": 0
           },
           {
            "bin_start": 9720.932938203196,
            "bin_end": 10801,
            "count": 1
           }
          ]
         }
        },
        {
         "name": "alkaline_phosphatase",
         "dtype": "float64",
         "stats": {
          "unique_count": 8,
          "nan_count": 0,
          "min": "4.8",
          "max": "6364.0",
          "histogram": [
           {
            "bin_start": 4.8,
            "bin_end": 640.7199999999999,
            "count": 7
           },
           {
            "bin_start": 640.7199999999999,
            "bin_end": 1276.6399999999999,
            "count": 0
           },
           {
            "bin_start": 1276.6399999999999,
            "bin_end": 1912.5599999999997,
            "count": 0
           },
           {
            "bin_start": 1912.5599999999997,
            "bin_end": 2548.48,
            "count": 0
           },
           {
            "bin_start": 2548.48,
            "bin_end": 3184.4,
            "count": 0
           },
           {
            "bin_start": 3184.4,
            "bin_end": 3820.3199999999997,
            "count": 0
           },
           {
            "bin_start": 3820.3199999999997,
            "bin_end": 4456.24,
            "count": 0
           },
           {
            "bin_start": 4456.24,
            "bin_end": 5092.16,
            "count": 0
           },
           {
            "bin_start": 5092.16,
            "bin_end": 5728.08,
            "count": 0
           },
           {
            "bin_start": 5728.08,
            "bin_end": 6364,
            "count": 1
           }
          ]
         }
        },
        {
         "name": "SGOT",
         "dtype": "float64",
         "stats": {
          "unique_count": 8,
          "nan_count": 0,
          "min": "0.27",
          "max": "6315.0",
          "histogram": [
           {
            "bin_start": 0.27,
            "bin_end": 631.7429999999999,
            "count": 7
           },
           {
            "bin_start": 631.7429999999999,
            "bin_end": 1263.216,
            "count": 0
           },
           {
            "bin_start": 1263.216,
            "bin_end": 1894.6889999999999,
            "count": 0
           },
           {
            "bin_start": 1894.6889999999999,
            "bin_end": 2526.162,
            "count": 0
           },
           {
            "bin_start": 2526.162,
            "bin_end": 3157.6349999999998,
            "count": 0
           },
           {
            "bin_start": 3157.6349999999998,
            "bin_end": 3789.1079999999997,
            "count": 0
           },
           {
            "bin_start": 3789.1079999999997,
            "bin_end": 4420.581,
            "count": 0
           },
           {
            "bin_start": 4420.581,
            "bin_end": 5052.054,
            "count": 0
           },
           {
            "bin_start": 5052.054,
            "bin_end": 5683.527,
            "count": 0
           },
           {
            "bin_start": 5683.527,
            "bin_end": 6315,
            "count": 1
           }
          ]
         }
        },
        {
         "name": "BUN",
         "dtype": "float64",
         "stats": {
          "unique_count": 8,
          "nan_count": 0,
          "min": "0.8",
          "max": "2935.0",
          "histogram": [
           {
            "bin_start": 0.8,
            "bin_end": 294.21999999999997,
            "count": 7
           },
           {
            "bin_start": 294.21999999999997,
            "bin_end": 587.6399999999999,
            "count": 0
           },
           {
            "bin_start": 587.6399999999999,
            "bin_end": 881.0599999999998,
            "count": 0
           },
           {
            "bin_start": 881.0599999999998,
            "bin_end": 1174.4799999999998,
            "count": 0
           },
           {
            "bin_start": 1174.4799999999998,
            "bin_end": 1467.8999999999999,
            "count": 0
           },
           {
            "bin_start": 1467.8999999999999,
            "bin_end": 1761.3199999999997,
            "count": 0
           },
           {
            "bin_start": 1761.3199999999997,
            "bin_end": 2054.74,
            "count": 0
           },
           {
            "bin_start": 2054.74,
            "bin_end": 2348.16,
            "count": 0
           },
           {
            "bin_start": 2348.16,
            "bin_end": 2641.58,
            "count": 0
           },
           {
            "bin_start": 2641.58,
            "bin_end": 2935,
            "count": 1
           }
          ]
         }
        },
        {
         "name": "calcium",
         "dtype": "float64",
         "stats": {
          "unique_count": 8,
          "nan_count": 0,
          "min": "0.2",
          "max": "6256.0",
          "histogram": [
           {
            "bin_start": 0.2,
            "bin_end": 625.7800000000001,
            "count": 7
           },
           {
            "bin_start": 625.7800000000001,
            "bin_end": 1251.3600000000001,
            "count": 0
           },
           {
            "bin_start": 1251.3600000000001,
            "bin_end": 1876.9400000000003,
            "count": 0
           },
           {
            "bin_start": 1876.9400000000003,
            "bin_end": 2502.52,
            "count": 0
           },
           {
            "bin_start": 2502.52,
            "bin_end": 3128.1,
            "count": 0
           },
           {
            "bin_start": 3128.1,
            "bin_end": 3753.6800000000003,
            "count": 0
           },
           {
            "bin_start": 3753.6800000000003,
            "bin_end": 4379.26,
            "count": 0
           },
           {
            "bin_start": 4379.26,
            "bin_end": 5004.84,
            "count": 0
           },
           {
            "bin_start": 5004.84,
            "bin_end": 5630.42,
            "count": 0
           },
           {
            "bin_start": 5630.42,
            "bin_end": 6256,
            "count": 1
           }
          ]
         }
        },
        {
         "name": "creatinine",
         "dtype": "float64",
         "stats": {
          "unique_count": 8,
          "nan_count": 0,
          "min": "0.2841782928994015",
          "max": "2591.0",
          "histogram": [
           {
            "bin_start": 0.2841782928994015,
            "bin_end": 259.35576046360944,
            "count": 7
           },
           {
            "bin_start": 259.35576046360944,
            "bin_end": 518.4273426343194,
            "count": 0
           },
           {
            "bin_start": 518.4273426343194,
            "bin_end": 777.4989248050294,
            "count": 0
           },
           {
            "bin_start": 777.4989248050294,
            "bin_end": 1036.5705069757396,
            "count": 0
           },
           {
            "bin_start": 1036.5705069757396,
            "bin_end": 1295.6420891464495,
            "count": 0
           },
           {
            "bin_start": 1295.6420891464495,
            "bin_end": 1554.7136713171597,
            "count": 0
           },
           {
            "bin_start": 1554.7136713171597,
            "bin_end": 1813.7852534878698,
            "count": 0
           },
           {
            "bin_start": 1813.7852534878698,
            "bin_end": 2072.8568356585797,
            "count": 0
           },
           {
            "bin_start": 2072.8568356585797,
            "bin_end": 2331.9284178292896,
            "count": 0
           },
           {
            "bin_start": 2331.9284178292896,
            "bin_end": 2591,
            "count": 1
           }
          ]
         }
        },
        {
         "name": "potassium",
         "dtype": "float64",
         "stats": {
          "unique_count": 8,
          "nan_count": 0,
          "min": "0.3442815765970421",
          "max": "2992.0",
          "histogram": [
           {
            "bin_start": 0.3442815765970421,
            "bin_end": 299.5098534189373,
            "count": 7
           },
           {
            "bin_start": 299.5098534189373,
            "bin_end": 598.6754252612776,
            "count": 0
           },
           {
            "bin_start": 598.6754252612776,
            "bin_end": 897.8409971036178,
            "count": 0
           },
           {
            "bin_start": 897.8409971036178,
            "bin_end": 1197.0065689459582,
            "count": 0
           },
           {
            "bin_start": 1197.0065689459582,
            "bin_end": 1496.1721407882985,
            "count": 0
           },
           {
            "bin_start": 1496.1721407882985,
            "bin_end": 1795.3377126306386,
            "count": 0
           },
           {
            "bin_start": 1795.3377126306386,
            "bin_end": 2094.503284472979,
            "count": 0
           },
           {
            "bin_start": 2094.503284472979,
            "bin_end": 2393.6688563153193,
            "count": 0
           },
           {
            "bin_start": 2393.6688563153193,
            "bin_end": 2692.8344281576597,
            "count": 0
           },
           {
            "bin_start": 2692.8344281576597,
            "bin_end": 2992,
            "count": 1
           }
          ]
         }
        },
        {
         "name": "sodium",
         "dtype": "float64",
         "stats": {
          "unique_count": 8,
          "nan_count": 0,
          "min": "3.1137727761420964",
          "max": "3003.0",
          "histogram": [
           {
            "bin_start": 3.1137727761420964,
            "bin_end": 303.10239549852787,
            "count": 7
           },
           {
            "bin_start": 303.10239549852787,
            "bin_end": 603.0910182209137,
            "count": 0
           },
           {
            "bin_start": 603.0910182209137,
            "bin_end": 903.0796409432995,
            "count": 0
           },
           {
            "bin_start": 903.0796409432995,
            "bin_end": 1203.0682636656852,
            "count": 0
           },
           {
            "bin_start": 1203.0682636656852,
            "bin_end": 1503.056886388071,
            "count": 0
           },
           {
            "bin_start": 1503.056886388071,
            "bin_end": 1803.0455091104568,
            "count": 0
           },
           {
            "bin_start": 1803.0455091104568,
            "bin_end": 2103.0341318328424,
            "count": 0
           },
           {
            "bin_start": 2103.0341318328424,
            "bin_end": 2403.0227545552284,
            "count": 0
           },
           {
            "bin_start": 2403.0227545552284,
            "bin_end": 2703.0113772776144,
            "count": 0
           },
           {
            "bin_start": 2703.0113772776144,
            "bin_end": 3003,
            "count": 1
           }
          ]
         }
        },
        {
         "name": "total_bilirubin",
         "dtype": "float64",
         "stats": {
          "unique_count": 8,
          "nan_count": 0,
          "min": "0.1",
          "max": "5854.0",
          "histogram": [
           {
            "bin_start": 0.1,
            "bin_end": 585.49,
            "count": 7
           },
           {
            "bin_start": 585.49,
            "bin_end": 1170.8799999999999,
            "count": 0
           },
           {
            "bin_start": 1170.8799999999999,
            "bin_end": 1756.27,
            "count": 0
           },
           {
            "bin_start": 1756.27,
            "bin_end": 2341.66,
            "count": 0
           },
           {
            "bin_start": 2341.66,
            "bin_end": 2927.0499999999997,
            "count": 0
           },
           {
            "bin_start": 2927.0499999999997,
            "bin_end": 3512.44,
            "count": 0
           },
           {
            "bin_start": 3512.44,
            "bin_end": 4097.83,
            "count": 0
           },
           {
            "bin_start": 4097.83,
            "bin_end": 4683.22,
            "count": 0
           },
           {
            "bin_start": 4683.22,
            "bin_end": 5268.610000000001,
            "count": 0
           },
           {
            "bin_start": 5268.610000000001,
            "bin_end": 5854,
            "count": 1
           }
          ]
         }
        },
        {
         "name": "serum_protein",
         "dtype": "float64",
         "stats": {
          "unique_count": 8,
          "nan_count": 0,
          "min": "0.5114299815066452",
          "max": "10800.0",
          "histogram": [
           {
            "bin_start": 0.5114299815066452,
            "bin_end": 1080.460286983356,
            "count": 7
           },
           {
            "bin_start": 1080.460286983356,
            "bin_end": 2160.4091439852054,
            "count": 0
           },
           {
            "bin_start": 2160.4091439852054,
            "bin_end": 3240.3580009870548,
            "count": 0
           },
           {
            "bin_start": 3240.3580009870548,
            "bin_end": 4320.306857988904,
            "count": 0
           },
           {
            "bin_start": 4320.306857988904,
            "bin_end": 5400.255714990753,
            "count": 0
           },
           {
            "bin_start": 5400.255714990753,
            "bin_end": 6480.204571992603,
            "count": 0
           },
           {
            "bin_start": 6480.204571992603,
            "bin_end": 7560.153428994452,
            "count": 0
           },
           {
            "bin_start": 7560.153428994452,
            "bin_end": 8640.102285996301,
            "count": 0
           },
           {
            "bin_start": 8640.102285996301,
            "bin_end": 9720.05114299815,
            "count": 0
           },
           {
            "bin_start": 9720.05114299815,
            "bin_end": 10800,
            "count": 1
           }
          ]
         }
        },
        {
         "name": "red_blood_cells",
         "dtype": "float64",
         "stats": {
          "unique_count": 8,
          "nan_count": 0,
          "min": "0.4854932744441972",
          "max": "10513.0",
          "histogram": [
           {
            "bin_start": 0.4854932744441972,
            "bin_end": 1051.7369439469999,
            "count": 7
           },
           {
            "bin_start": 1051.7369439469999,
            "bin_end": 2102.9883946195555,
            "count": 0
           },
           {
            "bin_start": 2102.9883946195555,
            "bin_end": 3154.239845292111,
            "count": 0
           },
           {
            "bin_start": 3154.239845292111,
            "bin_end": 4205.491295964666,
            "count": 0
           },
           {
            "bin_start": 4205.491295964666,
            "bin_end": 5256.742746637222,
            "count": 0
           },
           {
            "bin_start": 5256.742746637222,
            "bin_end": 6307.9941973097775,
            "count": 0
           },
           {
            "bin_start": 6307.9941973097775,
            "bin_end": 7359.245647982333,
            "count": 0
           },
           {
            "bin_start": 7359.245647982333,
            "bin_end": 8410.497098654889,
            "count": 0
           },
           {
            "bin_start": 8410.497098654889,
            "bin_end": 9461.748549327445,
            "count": 0
           },
           {
            "bin_start": 9461.748549327445,
            "bin_end": 10513,
            "count": 1
           }
          ]
         }
        },
        {
         "name": "white_blood_cells",
         "dtype": "float64",
         "stats": {
          "unique_count": 8,
          "nan_count": 0,
          "min": "2.1",
          "max": "12959.0",
          "histogram": [
           {
            "bin_start": 2.1,
            "bin_end": 1297.79,
            "count": 7
           },
           {
            "bin_start": 1297.79,
            "bin_end": 2593.48,
            "count": 0
           },
           {
            "bin_start": 2593.48,
            "bin_end": 3889.17,
            "count": 0
           },
           {
            "bin_start": 3889.17,
            "bin_end": 5184.860000000001,
            "count": 0
           },
           {
            "bin_start": 5184.860000000001,
            "bin_end": 6480.550000000001,
            "count": 0
           },
           {
            "bin_start": 6480.550000000001,
            "bin_end": 7776.240000000001,
            "count": 0
           },
           {
            "bin_start": 7776.240000000001,
            "bin_end": 9071.93,
            "count": 0
           },
           {
            "bin_start": 9071.93,
            "bin_end": 10367.62,
            "count": 0
           },
           {
            "bin_start": 10367.62,
            "bin_end": 11663.310000000001,
            "count": 0
           },
           {
            "bin_start": 11663.310000000001,
            "bin_end": 12959,
            "count": 1
           }
          ]
         }
        },
        {
         "name": "hemoglobin",
         "dtype": "float64",
         "stats": {
          "unique_count": 8,
          "nan_count": 0,
          "min": "1.5054330328607597",
          "max": "13373.0",
          "histogram": [
           {
            "bin_start": 1.5054330328607597,
            "bin_end": 1338.6548897295747,
            "count": 7
           },
           {
            "bin_start": 1338.6548897295747,
            "bin_end": 2675.8043464262887,
            "count": 0
           },
           {
            "bin_start": 2675.8043464262887,
            "bin_end": 4012.9538031230027,
            "count": 0
           },
           {
            "bin_start": 4012.9538031230027,
            "bin_end": 5350.103259819716,
            "count": 0
           },
           {
            "bin_start": 5350.103259819716,
            "bin_end": 6687.25271651643,
            "count": 0
           },
           {
            "bin_start": 6687.25271651643,
            "bin_end": 8024.402173213144,
            "count": 0
           },
           {
            "bin_start": 8024.402173213144,
            "bin_end": 9361.551629909858,
            "count": 0
           },
           {
            "bin_start": 9361.551629909858,
            "bin_end": 10698.701086606572,
            "count": 0
           },
           {
            "bin_start": 10698.701086606572,
            "bin_end": 12035.850543303286,
            "count": 0
           },
           {
            "bin_start": 12035.850543303286,
            "bin_end": 13373,
            "count": 1
           }
          ]
         }
        },
        {
         "name": "hematocrit",
         "dtype": "float64",
         "stats": {
          "unique_count": 8,
          "nan_count": 0,
          "min": "3.996648732168484",
          "max": "13631.0",
          "histogram": [
           {
            "bin_start": 3.996648732168484,
            "bin_end": 1366.6969838589516,
            "count": 7
           },
           {
            "bin_start": 1366.6969838589516,
            "bin_end": 2729.3973189857347,
            "count": 0
           },
           {
            "bin_start": 2729.3973189857347,
            "bin_end": 4092.097654112518,
            "count": 0
           },
           {
            "bin_start": 4092.097654112518,
            "bin_end": 5454.7979892393005,
            "count": 0
           },
           {
            "bin_start": 5454.7979892393005,
            "bin_end": 6817.498324366084,
            "count": 0
           },
           {
            "bin_start": 6817.498324366084,
            "bin_end": 8180.198659492867,
            "count": 0
           },
           {
            "bin_start": 8180.198659492867,
            "bin_end": 9542.89899461965,
            "count": 0
           },
           {
            "bin_start": 9542.89899461965,
            "bin_end": 10905.599329746434,
            "count": 0
           },
           {
            "bin_start": 10905.599329746434,
            "bin_end": 12268.299664873217,
            "count": 0
           },
           {
            "bin_start": 12268.299664873217,
            "bin_end": 13631,
            "count": 1
           }
          ]
         }
        },
        {
         "name": "segmented_neutrophils",
         "dtype": "float64",
         "stats": {
          "unique_count": 8,
          "nan_count": 0,
          "min": "2.0",
          "max": "5854.0",
          "histogram": [
           {
            "bin_start": 2,
            "bin_end": 587.2,
            "count": 7
           },
           {
            "bin_start": 587.2,
            "bin_end": 1172.4,
            "count": 0
           },
           {
            "bin_start": 1172.4,
            "bin_end": 1757.6000000000001,
            "count": 0
           },
           {
            "bin_start": 1757.6000000000001,
            "bin_end": 2342.8,
            "count": 0
           },
           {
            "bin_start": 2342.8,
            "bin_end": 2928,
            "count": 0
           },
           {
            "bin_start": 2928,
            "bin_end": 3513.2000000000003,
            "count": 0
           },
           {
            "bin_start": 3513.2000000000003,
            "bin_end": 4098.400000000001,
            "count": 0
           },
           {
            "bin_start": 4098.400000000001,
            "bin_end": 4683.6,
            "count": 0
           },
           {
            "bin_start": 4683.6,
            "bin_end": 5268.8,
            "count": 0
           },
           {
            "bin_start": 5268.8,
            "bin_end": 5854,
            "count": 1
           }
          ]
         }
        },
        {
         "name": "lymphocytes",
         "dtype": "float64",
         "stats": {
          "unique_count": 8,
          "nan_count": 0,
          "min": "3.0",
          "max": "5854.0",
          "histogram": [
           {
            "bin_start": 3,
            "bin_end": 588.1,
            "count": 7
           },
           {
            "bin_start": 588.1,
            "bin_end": 1173.2,
            "count": 0
           },
           {
            "bin_start": 1173.2,
            "bin_end": 1758.3000000000002,
            "count": 0
           },
           {
            "bin_start": 1758.3000000000002,
            "bin_end": 2343.4,
            "count": 0
           },
           {
            "bin_start": 2343.4,
            "bin_end": 2928.5,
            "count": 0
           },
           {
            "bin_start": 2928.5,
            "bin_end": 3513.6000000000004,
            "count": 0
           },
           {
            "bin_start": 3513.6000000000004,
            "bin_end": 4098.700000000001,
            "count": 0
           },
           {
            "bin_start": 4098.700000000001,
            "bin_end": 4683.8,
            "count": 0
           },
           {
            "bin_start": 4683.8,
            "bin_end": 5268.900000000001,
            "count": 0
           },
           {
            "bin_start": 5268.900000000001,
            "bin_end": 5854,
            "count": 1
           }
          ]
         }
        },
        {
         "name": "monocytes",
         "dtype": "float64",
         "stats": {
          "unique_count": 8,
          "nan_count": 0,
          "min": "0.0",
          "max": "5854.0",
          "histogram": [
           {
            "bin_start": 0,
            "bin_end": 585.4,
            "count": 7
           },
           {
            "bin_start": 585.4,
            "bin_end": 1170.8,
            "count": 0
           },
           {
            "bin_start": 1170.8,
            "bin_end": 1756.1999999999998,
            "count": 0
           },
           {
            "bin_start": 1756.1999999999998,
            "bin_end": 2341.6,
            "count": 0
           },
           {
            "bin_start": 2341.6,
            "bin_end": 2927,
            "count": 0
           },
           {
            "bin_start": 2927,
            "bin_end": 3512.3999999999996,
            "count": 0
           },
           {
            "bin_start": 3512.3999999999996,
            "bin_end": 4097.8,
            "count": 0
           },
           {
            "bin_start": 4097.8,
            "bin_end": 4683.2,
            "count": 0
           },
           {
            "bin_start": 4683.2,
            "bin_end": 5268.599999999999,
            "count": 0
           },
           {
            "bin_start": 5268.599999999999,
            "bin_end": 5854,
            "count": 1
           }
          ]
         }
        },
        {
         "name": "eosinophils",
         "dtype": "float64",
         "stats": {
          "unique_count": 7,
          "nan_count": 0,
          "min": "0.0",
          "max": "5854.0",
          "histogram": [
           {
            "bin_start": 0,
            "bin_end": 585.4,
            "count": 7
           },
           {
            "bin_start": 585.4,
            "bin_end": 1170.8,
            "count": 0
           },
           {
            "bin_start": 1170.8,
            "bin_end": 1756.1999999999998,
            "count": 0
           },
           {
            "bin_start": 1756.1999999999998,
            "bin_end": 2341.6,
            "count": 0
           },
           {
            "bin_start": 2341.6,
            "bin_end": 2927,
            "count": 0
           },
           {
            "bin_start": 2927,
            "bin_end": 3512.3999999999996,
            "count": 0
           },
           {
            "bin_start": 3512.3999999999996,
            "bin_end": 4097.8,
            "count": 0
           },
           {
            "bin_start": 4097.8,
            "bin_end": 4683.2,
            "count": 0
           },
           {
            "bin_start": 4683.2,
            "bin_end": 5268.599999999999,
            "count": 0
           },
           {
            "bin_start": 5268.599999999999,
            "bin_end": 5854,
            "count": 1
           }
          ]
         }
        },
        {
         "name": "basophils",
         "dtype": "float64",
         "stats": {
          "unique_count": 5,
          "nan_count": 0,
          "min": "0.0",
          "max": "5854.0",
          "histogram": [
           {
            "bin_start": 0,
            "bin_end": 585.4,
            "count": 7
           },
           {
            "bin_start": 585.4,
            "bin_end": 1170.8,
            "count": 0
           },
           {
            "bin_start": 1170.8,
            "bin_end": 1756.1999999999998,
            "count": 0
           },
           {
            "bin_start": 1756.1999999999998,
            "bin_end": 2341.6,
            "count": 0
           },
           {
            "bin_start": 2341.6,
            "bin_end": 2927,
            "count": 0
           },
           {
            "bin_start": 2927,
            "bin_end": 3512.3999999999996,
            "count": 0
           },
           {
            "bin_start": 3512.3999999999996,
            "bin_end": 4097.8,
            "count": 0
           },
           {
            "bin_start": 4097.8,
            "bin_end": 4683.2,
            "count": 0
           },
           {
            "bin_start": 4683.2,
            "bin_end": 5268.599999999999,
            "count": 0
           },
           {
            "bin_start": 5268.599999999999,
            "bin_end": 5854,
            "count": 1
           }
          ]
         }
        },
        {
         "name": "band_neutrophils",
         "dtype": "float64",
         "stats": {
          "unique_count": 5,
          "nan_count": 0,
          "min": "0.0",
          "max": "5854.0",
          "histogram": [
           {
            "bin_start": 0,
            "bin_end": 585.4,
            "count": 7
           },
           {
            "bin_start": 585.4,
            "bin_end": 1170.8,
            "count": 0
           },
           {
            "bin_start": 1170.8,
            "bin_end": 1756.1999999999998,
            "count": 0
           },
           {
            "bin_start": 1756.1999999999998,
            "bin_end": 2341.6,
            "count": 0
           },
           {
            "bin_start": 2341.6,
            "bin_end": 2927,
            "count": 0
           },
           {
            "bin_start": 2927,
            "bin_end": 3512.3999999999996,
            "count": 0
           },
           {
            "bin_start": 3512.3999999999996,
            "bin_end": 4097.8,
            "count": 0
           },
           {
            "bin_start": 4097.8,
            "bin_end": 4683.2,
            "count": 0
           },
           {
            "bin_start": 4683.2,
            "bin_end": 5268.599999999999,
            "count": 0
           },
           {
            "bin_start": 5268.599999999999,
            "bin_end": 5854,
            "count": 1
           }
          ]
         }
        },
        {
         "name": "cholesterol",
         "dtype": "float64",
         "stats": {
          "unique_count": 8,
          "nan_count": 0,
          "min": "48.44078737524689",
          "max": "13970.0",
          "histogram": [
           {
            "bin_start": 48.44078737524689,
            "bin_end": 1440.5967086377223,
            "count": 7
           },
           {
            "bin_start": 1440.5967086377223,
            "bin_end": 2832.752629900198,
            "count": 0
           },
           {
            "bin_start": 2832.752629900198,
            "bin_end": 4224.908551162674,
            "count": 0
           },
           {
            "bin_start": 4224.908551162674,
            "bin_end": 5617.064472425149,
            "count": 0
           },
           {
            "bin_start": 5617.064472425149,
            "bin_end": 7009.220393687624,
            "count": 0
           },
           {
            "bin_start": 7009.220393687624,
            "bin_end": 8401.3763149501,
            "count": 0
           },
           {
            "bin_start": 8401.3763149501,
            "bin_end": 9793.532236212573,
            "count": 0
           },
           {
            "bin_start": 9793.532236212573,
            "bin_end": 11185.68815747505,
            "count": 0
           },
           {
            "bin_start": 11185.68815747505,
            "bin_end": 12577.844078737526,
            "count": 0
           },
           {
            "bin_start": 12577.844078737526,
            "bin_end": 13970,
            "count": 1
           }
          ]
         }
        },
        {
         "name": "serum_iron",
         "dtype": "float64",
         "stats": {
          "unique_count": 8,
          "nan_count": 0,
          "min": "17.0",
          "max": "9943.0",
          "histogram": [
           {
            "bin_start": 17,
            "bin_end": 1009.6,
            "count": 7
           },
           {
            "bin_start": 1009.6,
            "bin_end": 2002.2,
            "count": 0
           },
           {
            "bin_start": 2002.2,
            "bin_end": 2994.8,
            "count": 0
           },
           {
            "bin_start": 2994.8,
            "bin_end": 3987.4,
            "count": 0
           },
           {
            "bin_start": 3987.4,
            "bin_end": 4980,
            "count": 0
           },
           {
            "bin_start": 4980,
            "bin_end": 5972.6,
            "count": 0
           },
           {
            "bin_start": 5972.6,
            "bin_end": 6965.2,
            "count": 0
           },
           {
            "bin_start": 6965.2,
            "bin_end": 7957.8,
            "count": 0
           },
           {
            "bin_start": 7957.8,
            "bin_end": 8950.4,
            "count": 0
           },
           {
            "bin_start": 8950.4,
            "bin_end": 9943,
            "count": 1
           }
          ]
         }
        },
        {
         "name": "serum_magnesium",
         "dtype": "float64",
         "stats": {
          "unique_count": 8,
          "nan_count": 0,
          "min": "14.3309697062244",
          "max": "13814.0",
          "histogram": [
           {
            "bin_start": 14.3309697062244,
            "bin_end": 1394.297872735602,
            "count": 7
           },
           {
            "bin_start": 1394.297872735602,
            "bin_end": 2774.2647757649797,
            "count": 0
           },
           {
            "bin_start": 2774.2647757649797,
            "bin_end": 4154.231678794357,
            "count": 0
           },
           {
            "bin_start": 4154.231678794357,
            "bin_end": 5534.1985818237345,
            "count": 0
           },
           {
            "bin_start": 5534.1985818237345,
            "bin_end": 6914.165484853112,
            "count": 0
           },
           {
            "bin_start": 6914.165484853112,
            "bin_end": 8294.132387882491,
            "count": 0
           },
           {
            "bin_start": 8294.132387882491,
            "bin_end": 9674.099290911869,
            "count": 0
           },
           {
            "bin_start": 9674.099290911869,
            "bin_end": 11054.066193941246,
            "count": 0
           },
           {
            "bin_start": 11054.066193941246,
            "bin_end": 12434.033096970623,
            "count": 0
           },
           {
            "bin_start": 12434.033096970623,
            "bin_end": 13814,
            "count": 1
           }
          ]
         }
        },
        {
         "name": "total_iron_binding_capacity",
         "dtype": "float64",
         "stats": {
          "unique_count": 8,
          "nan_count": 0,
          "min": "59.968864403965114",
          "max": "10149.0",
          "histogram": [
           {
            "bin_start": 59.968864403965114,
            "bin_end": 1068.8719779635687,
            "count": 7
           },
           {
            "bin_start": 1068.8719779635687,
            "bin_end": 2077.7750915231723,
            "count": 0
           },
           {
            "bin_start": 2077.7750915231723,
            "bin_end": 3086.678205082776,
            "count": 0
           },
           {
            "bin_start": 3086.678205082776,
            "bin_end": 4095.5813186423793,
            "count": 0
           },
           {
            "bin_start": 4095.5813186423793,
            "bin_end": 5104.484432201983,
            "count": 0
           },
           {
            "bin_start": 5104.484432201983,
            "bin_end": 6113.387545761587,
            "count": 0
           },
           {
            "bin_start": 6113.387545761587,
            "bin_end": 7122.29065932119,
            "count": 0
           },
           {
            "bin_start": 7122.29065932119,
            "bin_end": 8131.193772880793,
            "count": 0
           },
           {
            "bin_start": 8131.193772880793,
            "bin_end": 9140.096886440397,
            "count": 0
           },
           {
            "bin_start": 9140.096886440397,
            "bin_end": 10149,
            "count": 1
           }
          ]
         }
        },
        {
         "name": "tranferrin_saturation",
         "dtype": "float64",
         "stats": {
          "unique_count": 8,
          "nan_count": 0,
          "min": "3.2",
          "max": "9932.0",
          "histogram": [
           {
            "bin_start": 3.2,
            "bin_end": 996.0799999999999,
            "count": 7
           },
           {
            "bin_start": 996.0799999999999,
            "bin_end": 1988.9599999999998,
            "count": 0
           },
           {
            "bin_start": 1988.9599999999998,
            "bin_end": 2981.8399999999992,
            "count": 0
           },
           {
            "bin_start": 2981.8399999999992,
            "bin_end": 3974.7199999999993,
            "count": 0
           },
           {
            "bin_start": 3974.7199999999993,
            "bin_end": 4967.599999999999,
            "count": 0
           },
           {
            "bin_start": 4967.599999999999,
            "bin_end": 5960.479999999999,
            "count": 0
           },
           {
            "bin_start": 5960.479999999999,
            "bin_end": 6953.359999999999,
            "count": 0
           },
           {
            "bin_start": 6953.359999999999,
            "bin_end": 7946.239999999999,
            "count": 0
           },
           {
            "bin_start": 7946.239999999999,
            "bin_end": 8939.119999999999,
            "count": 0
           },
           {
            "bin_start": 8939.119999999999,
            "bin_end": 9932,
            "count": 1
           }
          ]
         }
        },
        {
         "name": "urine_pH",
         "dtype": "float64",
         "stats": {
          "unique_count": 6,
          "nan_count": 0,
          "min": "0.7740160252096407",
          "max": "13695.0",
          "histogram": [
           {
            "bin_start": 0.7740160252096407,
            "bin_end": 1370.1966144226888,
            "count": 7
           },
           {
            "bin_start": 1370.1966144226888,
            "bin_end": 2739.619212820168,
            "count": 0
           },
           {
            "bin_start": 2739.619212820168,
            "bin_end": 4109.041811217647,
            "count": 0
           },
           {
            "bin_start": 4109.041811217647,
            "bin_end": 5478.464409615126,
            "count": 0
           },
           {
            "bin_start": 5478.464409615126,
            "bin_end": 6847.887008012605,
            "count": 0
           },
           {
            "bin_start": 6847.887008012605,
            "bin_end": 8217.309606410083,
            "count": 0
           },
           {
            "bin_start": 8217.309606410083,
            "bin_end": 9586.732204807562,
            "count": 0
           },
           {
            "bin_start": 9586.732204807562,
            "bin_end": 10956.154803205041,
            "count": 0
           },
           {
            "bin_start": 10956.154803205041,
            "bin_end": 12325.57740160252,
            "count": 0
           },
           {
            "bin_start": 12325.57740160252,
            "bin_end": 13695,
            "count": 1
           }
          ]
         }
        },
        {
         "name": "sedimentation_rate",
         "dtype": "float64",
         "stats": {
          "unique_count": 8,
          "nan_count": 0,
          "min": "1.0",
          "max": "10308.0",
          "histogram": [
           {
            "bin_start": 1,
            "bin_end": 1031.7,
            "count": 7
           },
           {
            "bin_start": 1031.7,
            "bin_end": 2062.4,
            "count": 0
           },
           {
            "bin_start": 2062.4,
            "bin_end": 3093.1000000000004,
            "count": 0
           },
           {
            "bin_start": 3093.1000000000004,
            "bin_end": 4123.8,
            "count": 0
           },
           {
            "bin_start": 4123.8,
            "bin_end": 5154.5,
            "count": 0
           },
           {
            "bin_start": 5154.5,
            "bin_end": 6185.200000000001,
            "count": 0
           },
           {
            "bin_start": 6185.200000000001,
            "bin_end": 7215.900000000001,
            "count": 0
           },
           {
            "bin_start": 7215.900000000001,
            "bin_end": 8246.6,
            "count": 0
           },
           {
            "bin_start": 8246.6,
            "bin_end": 9277.300000000001,
            "count": 0
           },
           {
            "bin_start": 9277.300000000001,
            "bin_end": 10308,
            "count": 1
           }
          ]
         }
        },
        {
         "name": "uric_acid",
         "dtype": "float64",
         "stats": {
          "unique_count": 8,
          "nan_count": 0,
          "min": "0.7",
          "max": "6651.0",
          "histogram": [
           {
            "bin_start": 0.7,
            "bin_end": 665.73,
            "count": 7
           },
           {
            "bin_start": 665.73,
            "bin_end": 1330.76,
            "count": 0
           },
           {
            "bin_start": 1330.76,
            "bin_end": 1995.79,
            "count": 0
           },
           {
            "bin_start": 1995.79,
            "bin_end": 2660.8199999999997,
            "count": 0
           },
           {
            "bin_start": 2660.8199999999997,
            "bin_end": 3325.8499999999995,
            "count": 0
           },
           {
            "bin_start": 3325.8499999999995,
            "bin_end": 3990.8799999999997,
            "count": 0
           },
           {
            "bin_start": 3990.8799999999997,
            "bin_end": 4655.91,
            "count": 0
           },
           {
            "bin_start": 4655.91,
            "bin_end": 5320.94,
            "count": 0
           },
           {
            "bin_start": 5320.94,
            "bin_end": 5985.969999999999,
            "count": 0
           },
           {
            "bin_start": 5985.969999999999,
            "bin_end": 6651,
            "count": 1
           }
          ]
         }
        },
        {
         "name": "systolic_blood_pressure",
         "dtype": "float64",
         "stats": {
          "unique_count": 8,
          "nan_count": 0,
          "min": "24.411942056572627",
          "max": "14339.0",
          "histogram": [
           {
            "bin_start": 24.411942056572627,
            "bin_end": 1455.8707478509152,
            "count": 7
           },
           {
            "bin_start": 1455.8707478509152,
            "bin_end": 2887.329553645258,
            "count": 0
           },
           {
            "bin_start": 2887.329553645258,
            "bin_end": 4318.788359439601,
            "count": 0
           },
           {
            "bin_start": 4318.788359439601,
            "bin_end": 5750.247165233944,
            "count": 0
           },
           {
            "bin_start": 5750.247165233944,
            "bin_end": 7181.7059710282865,
            "count": 0
           },
           {
            "bin_start": 7181.7059710282865,
            "bin_end": 8613.164776822628,
            "count": 0
           },
           {
            "bin_start": 8613.164776822628,
            "bin_end": 10044.623582616972,
            "count": 0
           },
           {
            "bin_start": 10044.623582616972,
            "bin_end": 11476.082388411314,
            "count": 0
           },
           {
            "bin_start": 11476.082388411314,
            "bin_end": 12907.541194205656,
            "count": 0
           },
           {
            "bin_start": 12907.541194205656,
            "bin_end": 14339,
            "count": 1
           }
          ]
         }
        },
        {
         "name": "pulse_pressure",
         "dtype": "float64",
         "stats": {
          "unique_count": 8,
          "nan_count": 0,
          "min": "10.0",
          "max": "14335.0",
          "histogram": [
           {
            "bin_start": 10,
            "bin_end": 1442.5,
            "count": 7
           },
           {
            "bin_start": 1442.5,
            "bin_end": 2875,
            "count": 0
           },
           {
            "bin_start": 2875,
            "bin_end": 4307.5,
            "count": 0
           },
           {
            "bin_start": 4307.5,
            "bin_end": 5740,
            "count": 0
           },
           {
            "bin_start": 5740,
            "bin_end": 7172.5,
            "count": 0
           },
           {
            "bin_start": 7172.5,
            "bin_end": 8605,
            "count": 0
           },
           {
            "bin_start": 8605,
            "bin_end": 10037.5,
            "count": 0
           },
           {
            "bin_start": 10037.5,
            "bin_end": 11470,
            "count": 0
           },
           {
            "bin_start": 11470,
            "bin_end": 12902.5,
            "count": 0
           },
           {
            "bin_start": 12902.5,
            "bin_end": 14335,
            "count": 1
           }
          ]
         }
        },
        {
         "name": "weight",
         "dtype": "float64",
         "stats": {
          "unique_count": 8,
          "nan_count": 0,
          "min": "15.751339023213877",
          "max": "14338.0",
          "histogram": [
           {
            "bin_start": 15.751339023213877,
            "bin_end": 1447.9762051208925,
            "count": 7
           },
           {
            "bin_start": 1447.9762051208925,
            "bin_end": 2880.201071218571,
            "count": 0
           },
           {
            "bin_start": 2880.201071218571,
            "bin_end": 4312.42593731625,
            "count": 0
           },
           {
            "bin_start": 4312.42593731625,
            "bin_end": 5744.650803413929,
            "count": 0
           },
           {
            "bin_start": 5744.650803413929,
            "bin_end": 7176.875669511607,
            "count": 0
           },
           {
            "bin_start": 7176.875669511607,
            "bin_end": 8609.100535609286,
            "count": 0
           },
           {
            "bin_start": 8609.100535609286,
            "bin_end": 10041.325401706965,
            "count": 0
           },
           {
            "bin_start": 10041.325401706965,
            "bin_end": 11473.550267804643,
            "count": 0
           },
           {
            "bin_start": 11473.550267804643,
            "bin_end": 12905.775133902322,
            "count": 0
           },
           {
            "bin_start": 12905.775133902322,
            "bin_end": 14338,
            "count": 1
           }
          ]
         }
        },
        {
         "name": "height",
         "dtype": "float64",
         "stats": {
          "unique_count": 8,
          "nan_count": 0,
          "min": "9.175196849720182",
          "max": "14361.0",
          "histogram": [
           {
            "bin_start": 9.175196849720182,
            "bin_end": 1444.357677164748,
            "count": 7
           },
           {
            "bin_start": 1444.357677164748,
            "bin_end": 2879.540157479776,
            "count": 0
           },
           {
            "bin_start": 2879.540157479776,
            "bin_end": 4314.722637794804,
            "count": 0
           },
           {
            "bin_start": 4314.722637794804,
            "bin_end": 5749.905118109832,
            "count": 0
           },
           {
            "bin_start": 5749.905118109832,
            "bin_end": 7185.0875984248605,
            "count": 0
           },
           {
            "bin_start": 7185.0875984248605,
            "bin_end": 8620.270078739888,
            "count": 0
           },
           {
            "bin_start": 8620.270078739888,
            "bin_end": 10055.452559054916,
            "count": 0
           },
           {
            "bin_start": 10055.452559054916,
            "bin_end": 11490.635039369945,
            "count": 0
           },
           {
            "bin_start": 11490.635039369945,
            "bin_end": 12925.817519684973,
            "count": 0
           },
           {
            "bin_start": 12925.817519684973,
            "bin_end": 14361,
            "count": 1
           }
          ]
         }
        },
        {
         "name": "y",
         "dtype": "float64",
         "stats": {
          "unique_count": 8,
          "nan_count": 0,
          "min": "-22.06027397260273",
          "max": "14407.0",
          "histogram": [
           {
            "bin_start": -22.06027397260273,
            "bin_end": 1420.8457534246575,
            "count": 7
           },
           {
            "bin_start": 1420.8457534246575,
            "bin_end": 2863.7517808219177,
            "count": 0
           },
           {
            "bin_start": 2863.7517808219177,
            "bin_end": 4306.657808219178,
            "count": 0
           },
           {
            "bin_start": 4306.657808219178,
            "bin_end": 5749.563835616438,
            "count": 0
           },
           {
            "bin_start": 5749.563835616438,
            "bin_end": 7192.469863013698,
            "count": 0
           },
           {
            "bin_start": 7192.469863013698,
            "bin_end": 8635.37589041096,
            "count": 0
           },
           {
            "bin_start": 8635.37589041096,
            "bin_end": 10078.281917808219,
            "count": 0
           },
           {
            "bin_start": 10078.281917808219,
            "bin_end": 11521.18794520548,
            "count": 0
           },
           {
            "bin_start": 11521.18794520548,
            "bin_end": 12964.09397260274,
            "count": 0
           },
           {
            "bin_start": 12964.09397260274,
            "bin_end": 14407,
            "count": 1
           }
          ]
         }
        },
        {
         "name": "_deepnote_index_column",
         "dtype": "object"
        }
       ],
       "rows_top": [
        {
         "sequence_ID": 14407,
         "race": 14407,
         "poverty_index": 11348,
         "age": 14407,
         "serum_albumin": 10801,
         "alkaline_phosphatase": 6364,
         "SGOT": 6315,
         "BUN": 2935,
         "calcium": 6256,
         "creatinine": 2591,
         "potassium": 2992,
         "sodium": 3003,
         "total_bilirubin": 5854,
         "serum_protein": 10800,
         "red_blood_cells": 10513,
         "white_blood_cells": 12959,
         "hemoglobin": 13373,
         "hematocrit": 13631,
         "segmented_neutrophils": 5854,
         "lymphocytes": 5854,
         "monocytes": 5854,
         "eosinophils": 5854,
         "basophils": 5854,
         "band_neutrophils": 5854,
         "cholesterol": 13970,
         "serum_iron": 9943,
         "serum_magnesium": 13814,
         "total_iron_binding_capacity": 10149,
         "tranferrin_saturation": 9932,
         "urine_pH": 13695,
         "sedimentation_rate": 10308,
         "uric_acid": 6651,
         "systolic_blood_pressure": 14339,
         "pulse_pressure": 14335,
         "weight": 14338,
         "height": 14361,
         "y": 14407,
         "_deepnote_index_column": "count"
        },
        {
         "sequence_ID": 13109.294093149163,
         "race": 1.1744290969667524,
         "poverty_index": 285.28859710962286,
         "age": 48.944887901714445,
         "serum_albumin": 4.360466623460791,
         "alkaline_phosphatase": 60.20408548082967,
         "SGOT": 2.4286429136975456,
         "BUN": 14.807291311754685,
         "calcium": 9.671019820971868,
         "creatinine": 1.008066383635662,
         "potassium": 4.069151069518717,
         "sodium": 142.36763236763238,
         "total_bilirubin": 0.5137666552784421,
         "serum_protein": 7.105666666666668,
         "red_blood_cells": 4.719207647674308,
         "white_blood_cells": 7.475368469789336,
         "hemoglobin": 14.370328273386674,
         "hematocrit": 42.74059129924437,
         "segmented_neutrophils": 58.231978134608816,
         "lymphocytes": 36.20737956952511,
         "monocytes": 3.1564742056713357,
         "eosinophils": 2.015032456440041,
         "basophils": 0.13102152374444825,
         "band_neutrophils": 0.25145199863341305,
         "cholesterol": 220.81904080171796,
         "serum_iron": 101.12209594689732,
         "serum_magnesium": 168.3700593600695,
         "total_iron_binding_capacity": 362.76618386047886,
         "tranferrin_saturation": 28.55591018928715,
         "urine_pH": 5.631179262504563,
         "sedimentation_rate": 16.182382615444315,
         "uric_acid": 5.526642610133814,
         "systolic_blood_pressure": 134.1696073645303,
         "pulse_pressure": 50.66738751307987,
         "weight": 70.99398381922165,
         "height": 166.25483601420515,
         "y": -9.109807962006725,
         "_deepnote_index_column": "mean"
        },
        {
         "sequence_ID": 7376.747797238664,
         "race": 0.40753861039040745,
         "poverty_index": 223.32083880100316,
         "age": 15.589962848612801,
         "serum_albumin": 0.32938203196763133,
         "alkaline_phosphatase": 25.888012955821875,
         "SGOT": 1.489862920532693,
         "BUN": 4.463474577653686,
         "calcium": 0.4785496162140443,
         "creatinine": 0.2841782928994015,
         "potassium": 0.3442815765970421,
         "sodium": 3.1137727761420964,
         "total_bilirubin": 0.2573938053491947,
         "serum_protein": 0.5114299815066452,
         "red_blood_cells": 0.4854932744441972,
         "white_blood_cells": 2.2066344983244535,
         "hemoglobin": 1.5054330328607597,
         "hematocrit": 3.996648732168484,
         "segmented_neutrophils": 9.974279015287244,
         "lymphocytes": 9.875824280101712,
         "monocytes": 2.6810224476312627,
         "eosinophils": 2.0835396300593607,
         "basophils": 0.39267739845815947,
         "band_neutrophils": 1.0901499447798322,
         "cholesterol": 48.44078737524689,
         "serum_iron": 37.246828991439905,
         "serum_magnesium": 14.3309697062244,
         "total_iron_binding_capacity": 59.968864403965114,
         "tranferrin_saturation": 11.232670619356973,
         "urine_pH": 0.7740160252096407,
         "sedimentation_rate": 11.48178929716685,
         "uric_acid": 1.4704006374144822,
         "systolic_blood_pressure": 24.411942056572627,
         "pulse_pressure": 18.027675311466176,
         "weight": 15.751339023213877,
         "height": 9.175196849720182,
         "y": 14.39843637041786,
         "_deepnote_index_column": "std"
        },
        {
         "sequence_ID": 1,
         "race": 1,
         "poverty_index": 2,
         "age": 25,
         "serum_albumin": 2.7,
         "alkaline_phosphatase": 4.8,
         "SGOT": 0.27,
         "BUN": 0.8,
         "calcium": 0.2,
         "creatinine": 0.4,
         "potassium": 2.7,
         "sodium": 121,
         "total_bilirubin": 0.1,
         "serum_protein": 4.4,
         "red_blood_cells": 2.14,
         "white_blood_cells": 2.1,
         "hemoglobin": 5,
         "hematocrit": 19,
         "segmented_neutrophils": 2,
         "lymphocytes": 3,
         "monocytes": 0,
         "eosinophils": 0,
         "basophils": 0,
         "band_neutrophils": 0,
         "cholesterol": 53,
         "serum_iron": 17,
         "serum_magnesium": 82,
         "total_iron_binding_capacity": 112,
         "tranferrin_saturation": 3.2,
         "urine_pH": 5,
         "sedimentation_rate": 1,
         "uric_acid": 0.7,
         "systolic_blood_pressure": 80,
         "pulse_pressure": 10,
         "weight": 27.9,
         "height": 132.8,
         "y": -22.06027397260273,
         "_deepnote_index_column": "min"
        },
        {
         "sequence_ID": 6711.5,
         "race": 1,
         "poverty_index": 129,
         "age": 35,
         "serum_albumin": 4.2,
         "alkaline_phosphatase": 45,
         "SGOT": 1.8,
         "BUN": 12,
         "calcium": 9.4,
         "creatinine": 0.9,
         "potassium": 3.8,
         "sodium": 141,
         "total_bilirubin": 0.38,
         "serum_protein": 6.8,
         "red_blood_cells": 4.39,
         "white_blood_cells": 6,
         "hemoglobin": 13.3,
         "hematocrit": 40,
         "segmented_neutrophils": 52,
         "lymphocytes": 30,
         "monocytes": 1,
         "eosinophils": 0,
         "basophils": 0,
         "band_neutrophils": 0,
         "cholesterol": 187,
         "serum_iron": 75,
         "serum_magnesium": 159,
         "total_iron_binding_capacity": 322,
         "tranferrin_saturation": 21,
         "urine_pH": 5,
         "sedimentation_rate": 7,
         "uric_acid": 4.5,
         "systolic_blood_pressure": 118,
         "pulse_pressure": 38,
         "weight": 59.53,
         "height": 159.5,
         "y": -19.885245901639337,
         "_deepnote_index_column": "25%"
        },
        {
         "sequence_ID": 13313,
         "race": 1,
         "poverty_index": 229,
         "age": 48,
         "serum_albumin": 4.4,
         "alkaline_phosphatase": 57,
         "SGOT": 2.2,
         "BUN": 14,
         "calcium": 9.7,
         "creatinine": 1,
         "potassium": 4.1,
         "sodium": 143,
         "total_bilirubin": 0.5,
         "serum_protein": 7.1,
         "red_blood_cells": 4.7,
         "white_blood_cells": 7.2,
         "hemoglobin": 14.3,
         "hematocrit": 43,
         "segmented_neutrophils": 58,
         "lymphocytes": 36,
         "monocytes": 3,
         "eosinophils": 1,
         "basophils": 0,
         "band_neutrophils": 0,
         "cholesterol": 217,
         "serum_iron": 96,
         "serum_magnesium": 168,
         "total_iron_binding_capacity": 356,
         "tranferrin_saturation": 27.2,
         "urine_pH": 5,
         "sedimentation_rate": 14,
         "uric_acid": 5.4,
         "systolic_blood_pressure": 130,
         "pulse_pressure": 48,
         "weight": 69.17,
         "height": 165.5,
         "y": -18.028288045512383,
         "_deepnote_index_column": "50%"
        },
        {
         "sequence_ID": 19835.5,
         "race": 1,
         "poverty_index": 358,
         "age": 65,
         "serum_albumin": 4.6,
         "alkaline_phosphatase": 70,
         "SGOT": 2.6,
         "BUN": 17,
         "calcium": 10,
         "creatinine": 1.1,
         "potassium": 4.3,
         "sodium": 144,
         "total_bilirubin": 0.6,
         "serum_protein": 7.4,
         "red_blood_cells": 5.03,
         "white_blood_cells": 8.6,
         "hemoglobin": 15.4,
         "hematocrit": 45,
         "segmented_neutrophils": 65,
         "lymphocytes": 42,
         "monocytes": 5,
         "eosinophils": 3,
         "basophils": 0,
         "band_neutrophils": 0,
         "cholesterol": 249,
         "serum_iron": 122,
         "serum_magnesium": 177,
         "total_iron_binding_capacity": 396,
         "tranferrin_saturation": 34.6,
         "urine_pH": 6,
         "sedimentation_rate": 22,
         "uric_acid": 6.5,
         "systolic_blood_pressure": 148,
         "pulse_pressure": 60,
         "weight": 80.29,
         "height": 172.7,
         "y": 6.179077775282579,
         "_deepnote_index_column": "75%"
        },
        {
         "sequence_ID": 25061,
         "race": 3,
         "poverty_index": 999,
         "age": 75,
         "serum_albumin": 5.7,
         "alkaline_phosphatase": 580,
         "SGOT": 31,
         "BUN": 49,
         "calcium": 12.5,
         "creatinine": 9,
         "potassium": 5.4,
         "sodium": 157,
         "total_bilirubin": 5.2,
         "serum_protein": 13.3,
         "red_blood_cells": 6.99,
         "white_blood_cells": 56,
         "hemoglobin": 22.4,
         "hematocrit": 68,
         "segmented_neutrophils": 94,
         "lymphocytes": 95,
         "monocytes": 20,
         "eosinophils": 17,
         "basophils": 3,
         "band_neutrophils": 22,
         "cholesterol": 793,
         "serum_iron": 396,
         "serum_magnesium": 289,
         "total_iron_binding_capacity": 717,
         "tranferrin_saturation": 100,
         "urine_pH": 9,
         "sedimentation_rate": 72,
         "uric_acid": 12.5,
         "systolic_blood_pressure": 270,
         "pulse_pressure": 170,
         "weight": 181.44,
         "height": 205,
         "y": 21.474219627217607,
         "_deepnote_index_column": "max"
        }
       ],
       "rows_bottom": null
      },
      "text/plain": "       sequence_ID       race  poverty_index        age  serum_albumin  alkaline_phosphatase      SGOT       BUN   calcium  creatinine  potassium    sodium  total_bilirubin  serum_protein  red_blood_cells  white_blood_cells  hemoglobin  hematocrit  segmented_neutrophils  lymphocytes  monocytes  eosinophils  basophils  band_neutrophils  cholesterol  serum_iron  serum_magnesium  total_iron_binding_capacity  tranferrin_saturation   urine_pH  sedimentation_rate  uric_acid  systolic_blood_pressure  pulse_pressure     weight     height          y\ncount    14407.000  14407.000      11348.000  14407.000      10801.000              6364.000  6315.000  2935.000  6256.000    2591.000   2992.000  3003.000         5854.000      10800.000        10513.000          12959.000   13373.000   13631.000               5854.000     5854.000   5854.000     5854.000   5854.000          5854.000    13970.000    9943.000        13814.000                    10149.000               9932.000  13695.000           10308.000   6651.000                14339.000       14335.000  14338.000  14361.000  14407.000\nmean     13109.294      1.174        285.289     48.945          4.360                60.204     2.429    14.807     9.671       1.008      4.069   142.368            0.514          7.106            4.719              7.475      14.370      42.741                 58.232       36.207      3.156        2.015      0.131             0.251      220.819     101.122          168.370                      362.766                 28.556      5.631              16.182      5.527                  134.170          50.667     70.994    166.255     -9.110\nstd       7376.748      0.408        223.321     15.590          0.329                25.888     1.490     4.463     0.479       0.284      0.344     3.114            0.257          0.511            0.485              2.207       1.505       3.997                  9.974        9.876      2.681        2.084      0.393             1.090       48.441      37.247           14.331                       59.969                 11.233      0.774              11.482      1.470                   24.412          18.028     15.751      9.175     14.398\nmin          1.000      1.000          2.000     25.000          2.700                 4.800     0.270     0.800     0.200       0.400      2.700   121.000            0.100          4.400            2.140              2.100       5.000      19.000                  2.000        3.000      0.000        0.000      0.000             0.000       53.000      17.000           82.000                      112.000                  3.200      5.000               1.000      0.700                   80.000          10.000     27.900    132.800    -22.060\n25%       6711.500      1.000        129.000     35.000          4.200                45.000     1.800    12.000     9.400       0.900      3.800   141.000            0.380          6.800            4.390              6.000      13.300      40.000                 52.000       30.000      1.000        0.000      0.000             0.000      187.000      75.000          159.000                      322.000                 21.000      5.000               7.000      4.500                  118.000          38.000     59.530    159.500    -19.885\n50%      13313.000      1.000        229.000     48.000          4.400                57.000     2.200    14.000     9.700       1.000      4.100   143.000            0.500          7.100            4.700              7.200      14.300      43.000                 58.000       36.000      3.000        1.000      0.000             0.000      217.000      96.000          168.000                      356.000                 27.200      5.000              14.000      5.400                  130.000          48.000     69.170    165.500    -18.028\n75%      19835.500      1.000        358.000     65.000          4.600                70.000     2.600    17.000    10.000       1.100      4.300   144.000            0.600          7.400            5.030              8.600      15.400      45.000                 65.000       42.000      5.000        3.000      0.000             0.000      249.000     122.000          177.000                      396.000                 34.600      6.000              22.000      6.500                  148.000          60.000     80.290    172.700      6.179\nmax      25061.000      3.000        999.000     75.000          5.700               580.000    31.000    49.000    12.500       9.000      5.400   157.000            5.200         13.300            6.990             56.000      22.400      68.000                 94.000       95.000     20.000       17.000      3.000            22.000      793.000     396.000          289.000                      717.000                100.000      9.000              72.000     12.500                  270.000         170.000    181.440    205.000     21.474",
      "text/html": "<div>\n<style scoped>\n    .dataframe tbody tr th:only-of-type {\n        vertical-align: middle;\n    }\n\n    .dataframe tbody tr th {\n        vertical-align: top;\n    }\n\n    .dataframe thead th {\n        text-align: right;\n    }\n</style>\n<table border=\"1\" class=\"dataframe\">\n  <thead>\n    <tr style=\"text-align: right;\">\n      <th></th>\n      <th>sequence_ID</th>\n      <th>race</th>\n      <th>poverty_index</th>\n      <th>age</th>\n      <th>serum_albumin</th>\n      <th>alkaline_phosphatase</th>\n      <th>SGOT</th>\n      <th>BUN</th>\n      <th>calcium</th>\n      <th>creatinine</th>\n      <th>potassium</th>\n      <th>sodium</th>\n      <th>total_bilirubin</th>\n      <th>serum_protein</th>\n      <th>red_blood_cells</th>\n      <th>white_blood_cells</th>\n      <th>hemoglobin</th>\n      <th>hematocrit</th>\n      <th>segmented_neutrophils</th>\n      <th>lymphocytes</th>\n      <th>monocytes</th>\n      <th>eosinophils</th>\n      <th>basophils</th>\n      <th>band_neutrophils</th>\n      <th>cholesterol</th>\n      <th>serum_iron</th>\n      <th>serum_magnesium</th>\n      <th>total_iron_binding_capacity</th>\n      <th>tranferrin_saturation</th>\n      <th>urine_pH</th>\n      <th>sedimentation_rate</th>\n      <th>uric_acid</th>\n      <th>systolic_blood_pressure</th>\n      <th>pulse_pressure</th>\n      <th>weight</th>\n      <th>height</th>\n      <th>y</th>\n    </tr>\n  </thead>\n  <tbody>\n    <tr>\n      <th>count</th>\n      <td>14407.000</td>\n      <td>14407.000</td>\n      <td>11348.000</td>\n      <td>14407.000</td>\n      <td>10801.000</td>\n      <td>6364.000</td>\n      <td>6315.000</td>\n      <td>2935.000</td>\n      <td>6256.000</td>\n      <td>2591.000</td>\n      <td>2992.000</td>\n      <td>3003.000</td>\n      <td>5854.000</td>\n      <td>10800.000</td>\n      <td>10513.000</td>\n      <td>12959.000</td>\n      <td>13373.000</td>\n      <td>13631.000</td>\n      <td>5854.000</td>\n      <td>5854.000</td>\n      <td>5854.000</td>\n      <td>5854.000</td>\n      <td>5854.000</td>\n      <td>5854.000</td>\n      <td>13970.000</td>\n      <td>9943.000</td>\n      <td>13814.000</td>\n      <td>10149.000</td>\n      <td>9932.000</td>\n      <td>13695.000</td>\n      <td>10308.000</td>\n      <td>6651.000</td>\n      <td>14339.000</td>\n      <td>14335.000</td>\n      <td>14338.000</td>\n      <td>14361.000</td>\n      <td>14407.000</td>\n    </tr>\n    <tr>\n      <th>mean</th>\n      <td>13109.294</td>\n      <td>1.174</td>\n      <td>285.289</td>\n      <td>48.945</td>\n      <td>4.360</td>\n      <td>60.204</td>\n      <td>2.429</td>\n      <td>14.807</td>\n      <td>9.671</td>\n      <td>1.008</td>\n      <td>4.069</td>\n      <td>142.368</td>\n      <td>0.514</td>\n      <td>7.106</td>\n      <td>4.719</td>\n      <td>7.475</td>\n      <td>14.370</td>\n      <td>42.741</td>\n      <td>58.232</td>\n      <td>36.207</td>\n      <td>3.156</td>\n      <td>2.015</td>\n      <td>0.131</td>\n      <td>0.251</td>\n      <td>220.819</td>\n      <td>101.122</td>\n      <td>168.370</td>\n      <td>362.766</td>\n      <td>28.556</td>\n      <td>5.631</td>\n      <td>16.182</td>\n      <td>5.527</td>\n      <td>134.170</td>\n      <td>50.667</td>\n      <td>70.994</td>\n      <td>166.255</td>\n      <td>-9.110</td>\n    </tr>\n    <tr>\n      <th>std</th>\n      <td>7376.748</td>\n      <td>0.408</td>\n      <td>223.321</td>\n      <td>15.590</td>\n      <td>0.329</td>\n      <td>25.888</td>\n      <td>1.490</td>\n      <td>4.463</td>\n      <td>0.479</td>\n      <td>0.284</td>\n      <td>0.344</td>\n      <td>3.114</td>\n      <td>0.257</td>\n      <td>0.511</td>\n      <td>0.485</td>\n      <td>2.207</td>\n      <td>1.505</td>\n      <td>3.997</td>\n      <td>9.974</td>\n      <td>9.876</td>\n      <td>2.681</td>\n      <td>2.084</td>\n      <td>0.393</td>\n      <td>1.090</td>\n      <td>48.441</td>\n      <td>37.247</td>\n      <td>14.331</td>\n      <td>59.969</td>\n      <td>11.233</td>\n      <td>0.774</td>\n      <td>11.482</td>\n      <td>1.470</td>\n      <td>24.412</td>\n      <td>18.028</td>\n      <td>15.751</td>\n      <td>9.175</td>\n      <td>14.398</td>\n    </tr>\n    <tr>\n      <th>min</th>\n      <td>1.000</td>\n      <td>1.000</td>\n      <td>2.000</td>\n      <td>25.000</td>\n      <td>2.700</td>\n      <td>4.800</td>\n      <td>0.270</td>\n      <td>0.800</td>\n      <td>0.200</td>\n      <td>0.400</td>\n      <td>2.700</td>\n      <td>121.000</td>\n      <td>0.100</td>\n      <td>4.400</td>\n      <td>2.140</td>\n      <td>2.100</td>\n      <td>5.000</td>\n      <td>19.000</td>\n      <td>2.000</td>\n      <td>3.000</td>\n      <td>0.000</td>\n      <td>0.000</td>\n      <td>0.000</td>\n      <td>0.000</td>\n      <td>53.000</td>\n      <td>17.000</td>\n      <td>82.000</td>\n      <td>112.000</td>\n      <td>3.200</td>\n      <td>5.000</td>\n      <td>1.000</td>\n      <td>0.700</td>\n      <td>80.000</td>\n      <td>10.000</td>\n      <td>27.900</td>\n      <td>132.800</td>\n      <td>-22.060</td>\n    </tr>\n    <tr>\n      <th>25%</th>\n      <td>6711.500</td>\n      <td>1.000</td>\n      <td>129.000</td>\n      <td>35.000</td>\n      <td>4.200</td>\n      <td>45.000</td>\n      <td>1.800</td>\n      <td>12.000</td>\n      <td>9.400</td>\n      <td>0.900</td>\n      <td>3.800</td>\n      <td>141.000</td>\n      <td>0.380</td>\n      <td>6.800</td>\n      <td>4.390</td>\n      <td>6.000</td>\n      <td>13.300</td>\n      <td>40.000</td>\n      <td>52.000</td>\n      <td>30.000</td>\n      <td>1.000</td>\n      <td>0.000</td>\n      <td>0.000</td>\n      <td>0.000</td>\n      <td>187.000</td>\n      <td>75.000</td>\n      <td>159.000</td>\n      <td>322.000</td>\n      <td>21.000</td>\n      <td>5.000</td>\n      <td>7.000</td>\n      <td>4.500</td>\n      <td>118.000</td>\n      <td>38.000</td>\n      <td>59.530</td>\n      <td>159.500</td>\n      <td>-19.885</td>\n    </tr>\n    <tr>\n      <th>50%</th>\n      <td>13313.000</td>\n      <td>1.000</td>\n      <td>229.000</td>\n      <td>48.000</td>\n      <td>4.400</td>\n      <td>57.000</td>\n      <td>2.200</td>\n      <td>14.000</td>\n      <td>9.700</td>\n      <td>1.000</td>\n      <td>4.100</td>\n      <td>143.000</td>\n      <td>0.500</td>\n      <td>7.100</td>\n      <td>4.700</td>\n      <td>7.200</td>\n      <td>14.300</td>\n      <td>43.000</td>\n      <td>58.000</td>\n      <td>36.000</td>\n      <td>3.000</td>\n      <td>1.000</td>\n      <td>0.000</td>\n      <td>0.000</td>\n      <td>217.000</td>\n      <td>96.000</td>\n      <td>168.000</td>\n      <td>356.000</td>\n      <td>27.200</td>\n      <td>5.000</td>\n      <td>14.000</td>\n      <td>5.400</td>\n      <td>130.000</td>\n      <td>48.000</td>\n      <td>69.170</td>\n      <td>165.500</td>\n      <td>-18.028</td>\n    </tr>\n    <tr>\n      <th>75%</th>\n      <td>19835.500</td>\n      <td>1.000</td>\n      <td>358.000</td>\n      <td>65.000</td>\n      <td>4.600</td>\n      <td>70.000</td>\n      <td>2.600</td>\n      <td>17.000</td>\n      <td>10.000</td>\n      <td>1.100</td>\n      <td>4.300</td>\n      <td>144.000</td>\n      <td>0.600</td>\n      <td>7.400</td>\n      <td>5.030</td>\n      <td>8.600</td>\n      <td>15.400</td>\n      <td>45.000</td>\n      <td>65.000</td>\n      <td>42.000</td>\n      <td>5.000</td>\n      <td>3.000</td>\n      <td>0.000</td>\n      <td>0.000</td>\n      <td>249.000</td>\n      <td>122.000</td>\n      <td>177.000</td>\n      <td>396.000</td>\n      <td>34.600</td>\n      <td>6.000</td>\n      <td>22.000</td>\n      <td>6.500</td>\n      <td>148.000</td>\n      <td>60.000</td>\n      <td>80.290</td>\n      <td>172.700</td>\n      <td>6.179</td>\n    </tr>\n    <tr>\n      <th>max</th>\n      <td>25061.000</td>\n      <td>3.000</td>\n      <td>999.000</td>\n      <td>75.000</td>\n      <td>5.700</td>\n      <td>580.000</td>\n      <td>31.000</td>\n      <td>49.000</td>\n      <td>12.500</td>\n      <td>9.000</td>\n      <td>5.400</td>\n      <td>157.000</td>\n      <td>5.200</td>\n      <td>13.300</td>\n      <td>6.990</td>\n      <td>56.000</td>\n      <td>22.400</td>\n      <td>68.000</td>\n      <td>94.000</td>\n      <td>95.000</td>\n      <td>20.000</td>\n      <td>17.000</td>\n      <td>3.000</td>\n      <td>22.000</td>\n      <td>793.000</td>\n      <td>396.000</td>\n      <td>289.000</td>\n      <td>717.000</td>\n      <td>100.000</td>\n      <td>9.000</td>\n      <td>72.000</td>\n      <td>12.500</td>\n      <td>270.000</td>\n      <td>170.000</td>\n      <td>181.440</td>\n      <td>205.000</td>\n      <td>21.474</td>\n    </tr>\n  </tbody>\n</table>\n</div>"
     },
     "metadata": {},
     "output_type": "display_data"
    }
   ],
   "execution_count": 5
  },
  {
   "cell_type": "code",
   "metadata": {
    "tags": [],
    "cell_id": "00006-9eecbcdf-7781-4cc2-bff6-1c50b3099a36",
    "deepnote_to_be_reexecuted": false,
    "source_hash": "a012aed0",
    "execution_start": 1638141097091,
    "execution_millis": 43,
    "deepnote_output_heights": [
     null,
     21.1875
    ],
    "deepnote_cell_type": "code"
   },
   "source": "display(mortality.info())",
   "outputs": [
    {
     "name": "stdout",
     "text": "<class 'pandas.core.frame.DataFrame'>\nRangeIndex: 14407 entries, 0 to 14406\nData columns (total 42 columns):\n #   Column                       Non-Null Count  Dtype  \n---  ------                       --------------  -----  \n 0   sequence_ID                  14407 non-null  int64  \n 1   sex_isFemale                 14407 non-null  bool   \n 2   race                         14407 non-null  int64  \n 3   poverty_index                11348 non-null  float64\n 4   age                          14407 non-null  int64  \n 5   serum_albumin                10801 non-null  float64\n 6   alkaline_phosphatase         6364 non-null   float64\n 7   SGOT                         6315 non-null   float64\n 8   BUN                          2935 non-null   float64\n 9   calcium                      6256 non-null   float64\n 10  creatinine                   2591 non-null   float64\n 11  potassium                    2992 non-null   float64\n 12  sodium                       3003 non-null   float64\n 13  total_bilirubin              5854 non-null   float64\n 14  serum_protein                10800 non-null  float64\n 15  red_blood_cells              10513 non-null  float64\n 16  white_blood_cells            12959 non-null  float64\n 17  hemoglobin                   13373 non-null  float64\n 18  hematocrit                   13631 non-null  float64\n 19  platelets_estimate           5850 non-null   object \n 20  segmented_neutrophils        5854 non-null   float64\n 21  lymphocytes                  5854 non-null   float64\n 22  monocytes                    5854 non-null   float64\n 23  eosinophils                  5854 non-null   float64\n 24  basophils                    5854 non-null   float64\n 25  band_neutrophils             5854 non-null   float64\n 26  cholesterol                  13970 non-null  float64\n 27  serum_iron                   9943 non-null   float64\n 28  serum_magnesium              13814 non-null  float64\n 29  total_iron_binding_capacity  10149 non-null  float64\n 30  tranferrin_saturation        9932 non-null   float64\n 31  urine_albumin                13681 non-null  object \n 32  urine_glucose                13679 non-null  object \n 33  urine_pH                     13695 non-null  float64\n 34  urine_hematest               13615 non-null  object \n 35  sedimentation_rate           10308 non-null  float64\n 36  uric_acid                    6651 non-null   float64\n 37  systolic_blood_pressure      14339 non-null  float64\n 38  pulse_pressure               14335 non-null  float64\n 39  weight                       14338 non-null  float64\n 40  height                       14361 non-null  float64\n 41  y                            14407 non-null  float64\ndtypes: bool(1), float64(34), int64(3), object(4)\nmemory usage: 4.5+ MB\n",
     "output_type": "stream"
    },
    {
     "data": {
      "text/plain": "None"
     },
     "metadata": {},
     "output_type": "display_data"
    }
   ],
   "execution_count": 6
  },
  {
   "cell_type": "code",
   "metadata": {
    "tags": [],
    "cell_id": "00007-28a8fa06-c74c-4186-9b0d-b381e4245fc6",
    "deepnote_to_be_reexecuted": false,
    "source_hash": "cdfa3aa7",
    "execution_start": 1638141097142,
    "execution_millis": 10973,
    "deepnote_cell_type": "code"
   },
   "source": "# You'll need to install missingno the first time you run this notebook\n!pip install missingno",
   "outputs": [
    {
     "name": "stdout",
     "text": "Collecting missingno\n  Downloading missingno-0.5.0-py3-none-any.whl (8.8 kB)\nRequirement already satisfied: seaborn in /shared-libs/python3.7/py/lib/python3.7/site-packages (from missingno) (0.11.2)\nRequirement already satisfied: matplotlib in /shared-libs/python3.7/py/lib/python3.7/site-packages (from missingno) (3.4.3)\nRequirement already satisfied: scipy in /shared-libs/python3.7/py/lib/python3.7/site-packages (from missingno) (1.7.2)\nRequirement already satisfied: numpy in /shared-libs/python3.7/py/lib/python3.7/site-packages (from missingno) (1.19.5)\nRequirement already satisfied: pandas>=0.23 in /shared-libs/python3.7/py/lib/python3.7/site-packages (from seaborn->missingno) (1.2.5)\nRequirement already satisfied: cycler>=0.10 in /shared-libs/python3.7/py/lib/python3.7/site-packages (from matplotlib->missingno) (0.11.0)\nRequirement already satisfied: pillow>=6.2.0 in /shared-libs/python3.7/py/lib/python3.7/site-packages (from matplotlib->missingno) (8.4.0)\nRequirement already satisfied: pyparsing>=2.2.1 in /shared-libs/python3.7/py-core/lib/python3.7/site-packages (from matplotlib->missingno) (2.4.7)\nRequirement already satisfied: kiwisolver>=1.0.1 in /shared-libs/python3.7/py/lib/python3.7/site-packages (from matplotlib->missingno) (1.3.2)\nRequirement already satisfied: python-dateutil>=2.7 in /shared-libs/python3.7/py-core/lib/python3.7/site-packages (from matplotlib->missingno) (2.8.2)\nRequirement already satisfied: pytz>=2017.3 in /shared-libs/python3.7/py/lib/python3.7/site-packages (from pandas>=0.23->seaborn->missingno) (2021.3)\nRequirement already satisfied: six>=1.5 in /shared-libs/python3.7/py-core/lib/python3.7/site-packages (from python-dateutil>=2.7->matplotlib->missingno) (1.16.0)\nInstalling collected packages: missingno\nSuccessfully installed missingno-0.5.0\n\u001b[33mWARNING: You are using pip version 20.1.1; however, version 21.3.1 is available.\nYou should consider upgrading via the '/root/venv/bin/python -m pip install --upgrade pip' command.\u001b[0m\n",
     "output_type": "stream"
    }
   ],
   "execution_count": 7
  },
  {
   "cell_type": "code",
   "metadata": {
    "tags": [],
    "cell_id": "00006-dd846b50-5ced-491a-986d-a266b34e0fbd",
    "deepnote_to_be_reexecuted": false,
    "source_hash": "a2194ce6",
    "execution_start": 1638141108179,
    "execution_millis": 15416,
    "deepnote_output_heights": [
     611
    ],
    "deepnote_cell_type": "code"
   },
   "source": "import missingno as msno\nmsno.heatmap(mortality.sample(500));",
   "outputs": [
    {
     "data": {
      "text/plain": "<Figure size 1440x864 with 2 Axes>",
      "image/png": "[encoded data removed]"
     },
     "metadata": {
      "needs_background": "light",
      "image/png": {
       "width": 1260,
       "height": 844
      }
     },
     "output_type": "display_data"
    }
   ],
   "execution_count": 8
  },
  {
   "cell_type": "code",
   "metadata": {
    "tags": [],
    "cell_id": "00009-65331973-e9b9-4ccb-ba5f-19ad3a9a3552",
    "deepnote_to_be_reexecuted": false,
    "source_hash": "522d6ae0",
    "execution_start": 1638141123600,
    "execution_millis": 105,
    "deepnote_output_heights": [
     21.1875
    ],
    "deepnote_cell_type": "code"
   },
   "source": "mortality_datatypes = pd.DataFrame(mortality.dtypes)\nmortality_null_count = mortality.count()\nprint(mortality_datatypes.to_latex())\nprint(mortality_null_count.to_latex())",
   "outputs": [
    {
     "name": "stdout",
     "text": "\\begin{tabular}{ll}\n\\toprule\n{} &        0 \\\\\n\\midrule\nsequence\\_ID                 &    int64 \\\\\nsex\\_isFemale                &     bool \\\\\nrace                        &    int64 \\\\\npoverty\\_index               &  float64 \\\\\nage                         &    int64 \\\\\nserum\\_albumin               &  float64 \\\\\nalkaline\\_phosphatase        &  float64 \\\\\nSGOT                        &  float64 \\\\\nBUN                         &  float64 \\\\\ncalcium                     &  float64 \\\\\ncreatinine                  &  float64 \\\\\npotassium                   &  float64 \\\\\nsodium                      &  float64 \\\\\ntotal\\_bilirubin             &  float64 \\\\\nserum\\_protein               &  float64 \\\\\nred\\_blood\\_cells             &  float64 \\\\\nwhite\\_blood\\_cells           &  float64 \\\\\nhemoglobin                  &  float64 \\\\\nhematocrit                  &  float64 \\\\\nplatelets\\_estimate          &   object \\\\\nsegmented\\_neutrophils       &  float64 \\\\\nlymphocytes                 &  float64 \\\\\nmonocytes                   &  float64 \\\\\neosinophils                 &  float64 \\\\\nbasophils                   &  float64 \\\\\nband\\_neutrophils            &  float64 \\\\\ncholesterol                 &  float64 \\\\\nserum\\_iron                  &  float64 \\\\\nserum\\_magnesium             &  float64 \\\\\ntotal\\_iron\\_binding\\_capacity &  float64 \\\\\ntranferrin\\_saturation       &  float64 \\\\\nurine\\_albumin               &   object \\\\\nurine\\_glucose               &   object \\\\\nurine\\_pH                    &  float64 \\\\\nurine\\_hematest              &   object \\\\\nsedimentation\\_rate          &  float64 \\\\\nuric\\_acid                   &  float64 \\\\\nsystolic\\_blood\\_pressure     &  float64 \\\\\npulse\\_pressure              &  float64 \\\\\nweight                      &  float64 \\\\\nheight                      &  float64 \\\\\ny                           &  float64 \\\\\n\\bottomrule\n\\end{tabular}\n\n\\begin{tabular}{lr}\n\\toprule\n{} &      0 \\\\\n\\midrule\nsequence\\_ID                 &  14407 \\\\\nsex\\_isFemale                &  14407 \\\\\nrace                        &  14407 \\\\\npoverty\\_index               &  11348 \\\\\nage                         &  14407 \\\\\nserum\\_albumin               &  10801 \\\\\nalkaline\\_phosphatase        &   6364 \\\\\nSGOT                        &   6315 \\\\\nBUN                         &   2935 \\\\\ncalcium                     &   6256 \\\\\ncreatinine                  &   2591 \\\\\npotassium                   &   2992 \\\\\nsodium                      &   3003 \\\\\ntotal\\_bilirubin             &   5854 \\\\\nserum\\_protein               &  10800 \\\\\nred\\_blood\\_cells             &  10513 \\\\\nwhite\\_blood\\_cells           &  12959 \\\\\nhemoglobin                  &  13373 \\\\\nhematocrit                  &  13631 \\\\\nplatelets\\_estimate          &   5850 \\\\\nsegmented\\_neutrophils       &   5854 \\\\\nlymphocytes                 &   5854 \\\\\nmonocytes                   &   5854 \\\\\neosinophils                 &   5854 \\\\\nbasophils                   &   5854 \\\\\nband\\_neutrophils            &   5854 \\\\\ncholesterol                 &  13970 \\\\\nserum\\_iron                  &   9943 \\\\\nserum\\_magnesium             &  13814 \\\\\ntotal\\_iron\\_binding\\_capacity &  10149 \\\\\ntranferrin\\_saturation       &   9932 \\\\\nurine\\_albumin               &  13681 \\\\\nurine\\_glucose               &  13679 \\\\\nurine\\_pH                    &  13695 \\\\\nurine\\_hematest              &  13615 \\\\\nsedimentation\\_rate          &  10308 \\\\\nuric\\_acid                   &   6651 \\\\\nsystolic\\_blood\\_pressure     &  14339 \\\\\npulse\\_pressure              &  14335 \\\\\nweight                      &  14338 \\\\\nheight                      &  14361 \\\\\ny                           &  14407 \\\\\n\\bottomrule\n\\end{tabular}\n\n",
     "output_type": "stream"
    }
   ],
   "execution_count": 9
  },
  {
   "cell_type": "code",
   "metadata": {
    "tags": [],
    "cell_id": "00010-cebbdd71-724f-4a07-bc9a-ce2210d8ee3a",
    "deepnote_to_be_reexecuted": false,
    "source_hash": "8f70b67f",
    "execution_start": 1638141123722,
    "execution_millis": 272,
    "deepnote_cell_type": "code"
   },
   "source": "column_info = pd.concat([pd.DataFrame(mortality.dtypes), mortality.count()], axis=1)\ndisplay(column_info)\nprint(column_info.to_latex())",
   "outputs": [
    {
     "data": {
      "application/vnd.deepnote.dataframe.v2+json": {
       "row_count": 42,
       "column_count": 2,
       "columns": [
        {
         "name": 0,
         "dtype": "object",
         "stats": {
          "unique_count": 4,
          "nan_count": 0,
          "categories": [
           {
            "name": "float64",
            "count": 34
           },
           {
            "name": "object",
            "count": 4
           },
           {
            "name": "2 others",
            "count": 4
           }
          ]
         }
        },
        {
         "name": "0.1",
         "dtype": "int64",
         "stats": {
          "unique_count": 32,
          "nan_count": 0,
          "min": "2591",
          "max": "14407",
          "histogram": [
           {
            "bin_start": 2591,
            "bin_end": 3772.6,
            "count": 4
           },
           {
            "bin_start": 3772.6,
            "bin_end": 4954.2,
            "count": 0
           },
           {
            "bin_start": 4954.2,
            "bin_end": 6135.799999999999,
            "count": 8
           },
           {
            "bin_start": 6135.799999999999,
            "bin_end": 7317.4,
            "count": 4
           },
           {
            "bin_start": 7317.4,
            "bin_end": 8499,
            "count": 0
           },
           {
            "bin_start": 8499,
            "bin_end": 9680.599999999999,
            "count": 0
           },
           {
            "bin_start": 9680.599999999999,
            "bin_end": 10862.199999999999,
            "count": 7
           },
           {
            "bin_start": 10862.199999999999,
            "bin_end": 12043.8,
            "count": 1
           },
           {
            "bin_start": 12043.8,
            "bin_end": 13225.4,
            "count": 1
           },
           {
            "bin_start": 13225.4,
            "bin_end": 14407,
            "count": 17
           }
          ]
         }
        },
        {
         "name": "_deepnote_index_column",
         "dtype": "object"
        }
       ],
       "rows_top": [
        {
         "0": "int64",
         "0.1": 14407,
         "_deepnote_index_column": "sequence_ID"
        },
        {
         "0": "bool",
         "0.1": 14407,
         "_deepnote_index_column": "sex_isFemale"
        },
        {
         "0": "int64",
         "0.1": 14407,
         "_deepnote_index_column": "race"
        },
        {
         "0": "float64",
         "0.1": 11348,
         "_deepnote_index_column": "poverty_index"
        },
        {
         "0": "int64",
         "0.1": 14407,
         "_deepnote_index_column": "age"
        },
        {
         "0": "float64",
         "0.1": 10801,
         "_deepnote_index_column": "serum_albumin"
        },
        {
         "0": "float64",
         "0.1": 6364,
         "_deepnote_index_column": "alkaline_phosphatase"
        },
        {
         "0": "float64",
         "0.1": 6315,
         "_deepnote_index_column": "SGOT"
        },
        {
         "0": "float64",
         "0.1": 2935,
         "_deepnote_index_column": "BUN"
        },
        {
         "0": "float64",
         "0.1": 6256,
         "_deepnote_index_column": "calcium"
        },
        {
         "0": "float64",
         "0.1": 2591,
         "_deepnote_index_column": "creatinine"
        },
        {
         "0": "float64",
         "0.1": 2992,
         "_deepnote_index_column": "potassium"
        },
        {
         "0": "float64",
         "0.1": 3003,
         "_deepnote_index_column": "sodium"
        },
        {
         "0": "float64",
         "0.1": 5854,
         "_deepnote_index_column": "total_bilirubin"
        },
        {
         "0": "float64",
         "0.1": 10800,
         "_deepnote_index_column": "serum_protein"
        },
        {
         "0": "float64",
         "0.1": 10513,
         "_deepnote_index_column": "red_blood_cells"
        },
        {
         "0": "float64",
         "0.1": 12959,
         "_deepnote_index_column": "white_blood_cells"
        },
        {
         "0": "float64",
         "0.1": 13373,
         "_deepnote_index_column": "hemoglobin"
        },
        {
         "0": "float64",
         "0.1": 13631,
         "_deepnote_index_column": "hematocrit"
        },
        {
         "0": "object",
         "0.1": 5850,
         "_deepnote_index_column": "platelets_estimate"
        },
        {
         "0": "float64",
         "0.1": 5854,
         "_deepnote_index_column": "segmented_neutrophils"
        },
        {
         "0": "float64",
         "0.1": 5854,
         "_deepnote_index_column": "lymphocytes"
        },
        {
         "0": "float64",
         "0.1": 5854,
         "_deepnote_index_column": "monocytes"
        },
        {
         "0": "float64",
         "0.1": 5854,
         "_deepnote_index_column": "eosinophils"
        },
        {
         "0": "float64",
         "0.1": 5854,
         "_deepnote_index_column": "basophils"
        },
        {
         "0": "float64",
         "0.1": 5854,
         "_deepnote_index_column": "band_neutrophils"
        },
        {
         "0": "float64",
         "0.1": 13970,
         "_deepnote_index_column": "cholesterol"
        },
        {
         "0": "float64",
         "0.1": 9943,
         "_deepnote_index_column": "serum_iron"
        },
        {
         "0": "float64",
         "0.1": 13814,
         "_deepnote_index_column": "serum_magnesium"
        },
        {
         "0": "float64",
         "0.1": 10149,
         "_deepnote_index_column": "total_iron_binding_capacity"
        },
        {
         "0": "float64",
         "0.1": 9932,
         "_deepnote_index_column": "tranferrin_saturation"
        },
        {
         "0": "object",
         "0.1": 13681,
         "_deepnote_index_column": "urine_albumin"
        },
        {
         "0": "object",
         "0.1": 13679,
         "_deepnote_index_column": "urine_glucose"
        },
        {
         "0": "float64",
         "0.1": 13695,
         "_deepnote_index_column": "urine_pH"
        },
        {
         "0": "object",
         "0.1": 13615,
         "_deepnote_index_column": "urine_hematest"
        },
        {
         "0": "float64",
         "0.1": 10308,
         "_deepnote_index_column": "sedimentation_rate"
        },
        {
         "0": "float64",
         "0.1": 6651,
         "_deepnote_index_column": "uric_acid"
        },
        {
         "0": "float64",
         "0.1": 14339,
         "_deepnote_index_column": "systolic_blood_pressure"
        },
        {
         "0": "float64",
         "0.1": 14335,
         "_deepnote_index_column": "pulse_pressure"
        },
        {
         "0": "float64",
         "0.1": 14338,
         "_deepnote_index_column": "weight"
        },
        {
         "0": "float64",
         "0.1": 14361,
         "_deepnote_index_column": "height"
        },
        {
         "0": "float64",
         "0.1": 14407,
         "_deepnote_index_column": "y"
        }
       ],
       "rows_bottom": null
      },
      "text/plain": "                                   0      0\nsequence_ID                    int64  14407\nsex_isFemale                    bool  14407\nrace                           int64  14407\npoverty_index                float64  11348\nage                            int64  14407\nserum_albumin                float64  10801\nalkaline_phosphatase         float64   6364\nSGOT                         float64   6315\nBUN                          float64   2935\ncalcium                      float64   6256\ncreatinine                   float64   2591\npotassium                    float64   2992\nsodium                       float64   3003\ntotal_bilirubin              float64   5854\nserum_protein                float64  10800\nred_blood_cells              float64  10513\nwhite_blood_cells            float64  12959\nhemoglobin                   float64  13373\nhematocrit                   float64  13631\nplatelets_estimate            object   5850\nsegmented_neutrophils        float64   5854\nlymphocytes                  float64   5854\nmonocytes                    float64   5854\neosinophils                  float64   5854\nbasophils                    float64   5854\nband_neutrophils             float64   5854\ncholesterol                  float64  13970\nserum_iron                   float64   9943\nserum_magnesium              float64  13814\ntotal_iron_binding_capacity  float64  10149\ntranferrin_saturation        float64   9932\nurine_albumin                 object  13681\nurine_glucose                 object  13679\nurine_pH                     float64  13695\nurine_hematest                object  13615\nsedimentation_rate           float64  10308\nuric_acid                    float64   6651\nsystolic_blood_pressure      float64  14339\npulse_pressure               float64  14335\nweight                       float64  14338\nheight                       float64  14361\ny                            float64  14407",
      "text/html": "<div>\n<style scoped>\n    .dataframe tbody tr th:only-of-type {\n        vertical-align: middle;\n    }\n\n    .dataframe tbody tr th {\n        vertical-align: top;\n    }\n\n    .dataframe thead th {\n        text-align: right;\n    }\n</style>\n<table border=\"1\" class=\"dataframe\">\n  <thead>\n    <tr style=\"text-align: right;\">\n      <th></th>\n      <th>0</th>\n      <th>0</th>\n    </tr>\n  </thead>\n  <tbody>\n    <tr>\n      <th>sequence_ID</th>\n      <td>int64</td>\n      <td>14407</td>\n    </tr>\n    <tr>\n      <th>sex_isFemale</th>\n      <td>bool</td>\n      <td>14407</td>\n    </tr>\n    <tr>\n      <th>race</th>\n      <td>int64</td>\n      <td>14407</td>\n    </tr>\n    <tr>\n      <th>poverty_index</th>\n      <td>float64</td>\n      <td>11348</td>\n    </tr>\n    <tr>\n      <th>age</th>\n      <td>int64</td>\n      <td>14407</td>\n    </tr>\n    <tr>\n      <th>serum_albumin</th>\n      <td>float64</td>\n      <td>10801</td>\n    </tr>\n    <tr>\n      <th>alkaline_phosphatase</th>\n      <td>float64</td>\n      <td>6364</td>\n    </tr>\n    <tr>\n      <th>SGOT</th>\n      <td>float64</td>\n      <td>6315</td>\n    </tr>\n    <tr>\n      <th>BUN</th>\n      <td>float64</td>\n      <td>2935</td>\n    </tr>\n    <tr>\n      <th>calcium</th>\n      <td>float64</td>\n      <td>6256</td>\n    </tr>\n    <tr>\n      <th>creatinine</th>\n      <td>float64</td>\n      <td>2591</td>\n    </tr>\n    <tr>\n      <th>potassium</th>\n      <td>float64</td>\n      <td>2992</td>\n    </tr>\n    <tr>\n      <th>sodium</th>\n      <td>float64</td>\n      <td>3003</td>\n    </tr>\n    <tr>\n      <th>total_bilirubin</th>\n      <td>float64</td>\n      <td>5854</td>\n    </tr>\n    <tr>\n      <th>serum_protein</th>\n      <td>float64</td>\n      <td>10800</td>\n    </tr>\n    <tr>\n      <th>red_blood_cells</th>\n      <td>float64</td>\n      <td>10513</td>\n    </tr>\n    <tr>\n      <th>white_blood_cells</th>\n      <td>float64</td>\n      <td>12959</td>\n    </tr>\n    <tr>\n      <th>hemoglobin</th>\n      <td>float64</td>\n      <td>13373</td>\n    </tr>\n    <tr>\n      <th>hematocrit</th>\n      <td>float64</td>\n      <td>13631</td>\n    </tr>\n    <tr>\n      <th>platelets_estimate</th>\n      <td>object</td>\n      <td>5850</td>\n    </tr>\n    <tr>\n      <th>segmented_neutrophils</th>\n      <td>float64</td>\n      <td>5854</td>\n    </tr>\n    <tr>\n      <th>lymphocytes</th>\n      <td>float64</td>\n      <td>5854</td>\n    </tr>\n    <tr>\n      <th>monocytes</th>\n      <td>float64</td>\n      <td>5854</td>\n    </tr>\n    <tr>\n      <th>eosinophils</th>\n      <td>float64</td>\n      <td>5854</td>\n    </tr>\n    <tr>\n      <th>basophils</th>\n      <td>float64</td>\n      <td>5854</td>\n    </tr>\n    <tr>\n      <th>band_neutrophils</th>\n      <td>float64</td>\n      <td>5854</td>\n    </tr>\n    <tr>\n      <th>cholesterol</th>\n      <td>float64</td>\n      <td>13970</td>\n    </tr>\n    <tr>\n      <th>serum_iron</th>\n      <td>float64</td>\n      <td>9943</td>\n    </tr>\n    <tr>\n      <th>serum_magnesium</th>\n      <td>float64</td>\n      <td>13814</td>\n    </tr>\n    <tr>\n      <th>total_iron_binding_capacity</th>\n      <td>float64</td>\n      <td>10149</td>\n    </tr>\n    <tr>\n      <th>tranferrin_saturation</th>\n      <td>float64</td>\n      <td>9932</td>\n    </tr>\n    <tr>\n      <th>urine_albumin</th>\n      <td>object</td>\n      <td>13681</td>\n    </tr>\n    <tr>\n      <th>urine_glucose</th>\n      <td>object</td>\n      <td>13679</td>\n    </tr>\n    <tr>\n      <th>urine_pH</th>\n      <td>float64</td>\n      <td>13695</td>\n    </tr>\n    <tr>\n      <th>urine_hematest</th>\n      <td>object</td>\n      <td>13615</td>\n    </tr>\n    <tr>\n      <th>sedimentation_rate</th>\n      <td>float64</td>\n      <td>10308</td>\n    </tr>\n    <tr>\n      <th>uric_acid</th>\n      <td>float64</td>\n      <td>6651</td>\n    </tr>\n    <tr>\n      <th>systolic_blood_pressure</th>\n      <td>float64</td>\n      <td>14339</td>\n    </tr>\n    <tr>\n      <th>pulse_pressure</th>\n      <td>float64</td>\n      <td>14335</td>\n    </tr>\n    <tr>\n      <th>weight</th>\n      <td>float64</td>\n      <td>14338</td>\n    </tr>\n    <tr>\n      <th>height</th>\n      <td>float64</td>\n      <td>14361</td>\n    </tr>\n    <tr>\n      <th>y</th>\n      <td>float64</td>\n      <td>14407</td>\n    </tr>\n  </tbody>\n</table>\n</div>"
     },
     "metadata": {},
     "output_type": "display_data"
    },
    {
     "name": "stdout",
     "text": "\\begin{tabular}{llr}\n\\toprule\n{} &        0 &      0 \\\\\n\\midrule\nsequence\\_ID                 &    int64 &  14407 \\\\\nsex\\_isFemale                &     bool &  14407 \\\\\nrace                        &    int64 &  14407 \\\\\npoverty\\_index               &  float64 &  11348 \\\\\nage                         &    int64 &  14407 \\\\\nserum\\_albumin               &  float64 &  10801 \\\\\nalkaline\\_phosphatase        &  float64 &   6364 \\\\\nSGOT                        &  float64 &   6315 \\\\\nBUN                         &  float64 &   2935 \\\\\ncalcium                     &  float64 &   6256 \\\\\ncreatinine                  &  float64 &   2591 \\\\\npotassium                   &  float64 &   2992 \\\\\nsodium                      &  float64 &   3003 \\\\\ntotal\\_bilirubin             &  float64 &   5854 \\\\\nserum\\_protein               &  float64 &  10800 \\\\\nred\\_blood\\_cells             &  float64 &  10513 \\\\\nwhite\\_blood\\_cells           &  float64 &  12959 \\\\\nhemoglobin                  &  float64 &  13373 \\\\\nhematocrit                  &  float64 &  13631 \\\\\nplatelets\\_estimate          &   object &   5850 \\\\\nsegmented\\_neutrophils       &  float64 &   5854 \\\\\nlymphocytes                 &  float64 &   5854 \\\\\nmonocytes                   &  float64 &   5854 \\\\\neosinophils                 &  float64 &   5854 \\\\\nbasophils                   &  float64 &   5854 \\\\\nband\\_neutrophils            &  float64 &   5854 \\\\\ncholesterol                 &  float64 &  13970 \\\\\nserum\\_iron                  &  float64 &   9943 \\\\\nserum\\_magnesium             &  float64 &  13814 \\\\\ntotal\\_iron\\_binding\\_capacity &  float64 &  10149 \\\\\ntranferrin\\_saturation       &  float64 &   9932 \\\\\nurine\\_albumin               &   object &  13681 \\\\\nurine\\_glucose               &   object &  13679 \\\\\nurine\\_pH                    &  float64 &  13695 \\\\\nurine\\_hematest              &   object &  13615 \\\\\nsedimentation\\_rate          &  float64 &  10308 \\\\\nuric\\_acid                   &  float64 &   6651 \\\\\nsystolic\\_blood\\_pressure     &  float64 &  14339 \\\\\npulse\\_pressure              &  float64 &  14335 \\\\\nweight                      &  float64 &  14338 \\\\\nheight                      &  float64 &  14361 \\\\\ny                           &  float64 &  14407 \\\\\n\\bottomrule\n\\end{tabular}\n\n",
     "output_type": "stream"
    }
   ],
   "execution_count": 10
  },
  {
   "cell_type": "markdown",
   "source": "<a style='text-decoration:none;line-height:16px;display:flex;color:#5B5B62;padding:10px;justify-content:end;' href='https://deepnote.com?utm_source=created-in-deepnote-cell&projectId=24ab17b8-b2f8-4eb1-897f-b86e4cf16ad8' target=\"_blank\">\n<img alt='Created in deepnote.com' style='display:inline;max-height:16px;margin:0px;margin-right:7.5px;' src='data:image/svg+xml;base64,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' > </img>\nCreated in <span style='font-weight:600;margin-left:4px;'>Deepnote</span></a>",
   "metadata": {
    "tags": [],
    "created_in_deepnote_cell": true,
    "deepnote_cell_type": "markdown"
   }
  }
 ],
 "nbformat": 4,
 "nbformat_minor": 2,
 "metadata": {
  "orig_nbformat": 2,
  "deepnote": {
   "is_reactive": false
  },
  "deepnote_notebook_id": "54d595bb-b147-4c9d-a19a-282c6b1c5f85",
  "deepnote_execution_queue": []
 }
}